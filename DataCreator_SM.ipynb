{
 "cells": [
  {
   "cell_type": "code",
   "execution_count": 42,
   "metadata": {},
   "outputs": [],
   "source": [
    "import pandas as pd\n",
    "import numpy as np\n",
    "import chess\n",
    "\n",
    "import itertools"
   ]
  },
  {
   "cell_type": "markdown",
   "metadata": {},
   "source": [
    "### Loading data and parsing the text file for moves, results and openings"
   ]
  },
  {
   "cell_type": "code",
   "execution_count": 43,
   "metadata": {},
   "outputs": [],
   "source": [
    "game_list = [line for line in open('GMallboth.pgn')] \n",
    "\n",
    "all_moves_list = []\n",
    "i = 11\n",
    "while i <= (len(game_list)/200):           ###### NOTE: '/200' only using 1% of the data availible from grandmasters\n",
    "    all_moves_list.append(game_list[i])\n",
    "    i += 16\n",
    "    \n",
    "    \n",
    "all_results = []\n",
    "i = 13\n",
    "while i <= (len(game_list)/200):\n",
    "    all_results.append(game_list[i])\n",
    "    i += 16\n",
    "    \n",
    "all_openings = []\n",
    "i = 7\n",
    "while i <= (len(game_list)/200):\n",
    "    all_openings.append(game_list[i])\n",
    "    i += 16"
   ]
  },
  {
   "cell_type": "code",
   "execution_count": 44,
   "metadata": {},
   "outputs": [],
   "source": [
    "def get_move_list(move_string): #### input is a string \n",
    "    '''\n",
    "    Takes a move string that was striped from a PGN format, and removes unwanted characters and conserves SAN format.\n",
    "    \n",
    "    Input: String of plain text moves in string format\n",
    "    Output: List of SAN moves\n",
    "    \n",
    "    '''\n",
    "    testing = move_string \n",
    "    testing = testing[0:-2]  ### remove last 2 characters = '\\n'\n",
    "    testing = testing.split('. ')\n",
    "    \n",
    "    for i in range(len(testing)):\n",
    "        testing[i] = testing[i].split(' ')\n",
    "    for i in testing:\n",
    "        try:\n",
    "            del(i[2])\n",
    "        except:\n",
    "            continue\n",
    "    del(testing[0])\n",
    "\n",
    "    simplelist = list(itertools.chain.from_iterable(testing))\n",
    "    return(simplelist)"
   ]
  },
  {
   "cell_type": "code",
   "execution_count": 45,
   "metadata": {},
   "outputs": [
    {
     "name": "stdout",
     "output_type": "stream",
     "text": [
      "1378\n",
      "CPU times: user 287 ms, sys: 16.1 ms, total: 303 ms\n",
      "Wall time: 339 ms\n"
     ]
    }
   ],
   "source": [
    "%%time\n",
    "all_san_list = [get_move_list(game) for game in all_moves_list]\n",
    "print(len(all_san_list))"
   ]
  },
  {
   "cell_type": "code",
   "execution_count": 46,
   "metadata": {},
   "outputs": [],
   "source": [
    "def white_results(result_string_list):\n",
    "    '''\n",
    "    Reformats and standardizes stripped result text from chess game in PGN/TXT format\n",
    "    \n",
    "    Input: list of strings - (results text with \\n)\n",
    "    Output: win, lose, draw in list format\n",
    "    \n",
    "    '''\n",
    "    white_result_list = []\n",
    "    for i in range(len(result_string_list)):\n",
    "            result = result_string_list[i][:-1]\n",
    "            result = result.replace('1-0', 'win')\n",
    "            result = result.replace('0-1', 'lose')\n",
    "            result = result.replace('1/2-1/2', 'draw')\n",
    "            white_result_list.append(result)\n",
    "    return(white_result_list)"
   ]
  },
  {
   "cell_type": "code",
   "execution_count": 47,
   "metadata": {},
   "outputs": [
    {
     "name": "stdout",
     "output_type": "stream",
     "text": [
      "CPU times: user 1.52 ms, sys: 114 µs, total: 1.63 ms\n",
      "Wall time: 1.66 ms\n"
     ]
    }
   ],
   "source": [
    "%%time\n",
    "white_test = white_results(all_results)"
   ]
  },
  {
   "cell_type": "code",
   "execution_count": 48,
   "metadata": {},
   "outputs": [
    {
     "name": "stdout",
     "output_type": "stream",
     "text": [
      "460 293 625\n"
     ]
    }
   ],
   "source": [
    "white_win = []\n",
    "white_lose = []\n",
    "white_draw = []\n",
    "\n",
    "for i in range(len(white_test)):\n",
    "    if white_test[i] == 'win':\n",
    "        white_win.append(all_san_list[i])\n",
    "    elif white_test[i] == 'lose':\n",
    "        white_lose.append(all_san_list[i])\n",
    "    else:\n",
    "        white_draw.append(all_san_list[i])\n",
    "print(len(white_win), len(white_lose), len(white_draw))"
   ]
  },
  {
   "cell_type": "code",
   "execution_count": 49,
   "metadata": {},
   "outputs": [],
   "source": [
    "### Maybe try (# apt install stockfish)\n",
    "### stockfish 3.5.0 released Dec 14, 2019 ... maybe try a previous version....\n",
    "### \n",
    "\n",
    "from stockfish import Stockfish\n",
    "\n",
    "stockfish = Stockfish('Desktop/stockfish-11-mac/Mac/stockfish-11-64')"
   ]
  },
  {
   "cell_type": "code",
   "execution_count": 50,
   "metadata": {},
   "outputs": [
    {
     "name": "stdout",
     "output_type": "stream",
     "text": [
      "r n b q k b n r\n",
      "p p p p p p p p\n",
      ". . . . . . . .\n",
      ". . . . . . . .\n",
      ". . . . . . . .\n",
      ". . . . . . . .\n",
      "P P P P P P P P\n",
      "R N B Q K B N R\n"
     ]
    }
   ],
   "source": [
    "import chess\n",
    "import chess.engine\n",
    "\n",
    "engine = chess.engine.SimpleEngine.popen_uci(\"Desktop/stockfish-11-mac 2/Mac/stockfish-11-64\")\n",
    "\n",
    "#board = chess.Board()\n",
    "#info = engine.analyse(board, chess.engine.Limit(time=0.1))\n",
    "#print(\"Score:\", info[\"score\"])\n",
    "# Score: +95\n",
    "\n",
    "board = chess.Board()\n",
    "print(board)\n",
    "#info = engine.analyse(board, chess.engine.Limit(depth=10))\n",
    "#print(\"Score:\", info[\"score\"])\n",
    "# Score: #+1\n",
    "#print(info['depth'], info['nodes'], info['time'])\n",
    "engine.quit()"
   ]
  },
  {
   "cell_type": "code",
   "execution_count": 55,
   "metadata": {},
   "outputs": [],
   "source": [
    "def clean_fen(string):\n",
    "    '''\n",
    "    Takes a fen with extraneous features\n",
    "    \n",
    "    input: plain FEN notation i.e: rnbqkbnr/pppppppp/8/8/8/8/PPPPPPPP/RNBQKBNR\n",
    "    output: 1x64 list - with piece abbriviation in position, open space as '1'\n",
    "    '''\n",
    "    string = string.replace('8','1'*8)\n",
    "    string = string.replace('7','1'*7)\n",
    "    string = string.replace('6','1'*6)\n",
    "    string = string.replace('5','1'*5)\n",
    "    string = string.replace('4','1'*4)\n",
    "    string = string.replace('3','1'*3)\n",
    "    string = string.replace('2','1'*2)\n",
    "    string = string.replace('1','1'*1)\n",
    "    string = string.replace('/','')\n",
    "    string_list = [i for i in string]\n",
    "    string_array = np.asarray(string_list)\n",
    "    \n",
    "    return(string_array)\n",
    "\n",
    "\n",
    "def get_bitwise(board_state):\n",
    "    '''\n",
    "    Takes a [1x64] board state and creates 6 bitwise [1x64]\n",
    "    '''\n",
    "    bs = board_state #test ---- #First posiiton tuple  #winning_position[0][0] - for i in range:\n",
    "    r_ray = np.zeros(64)\n",
    "    n_ray = np.zeros(64)\n",
    "    b_ray = np.zeros(64)\n",
    "    q_ray = np.zeros(64)\n",
    "    k_ray = np.zeros(64)\n",
    "    p_ray = np.zeros(64)\n",
    "    for i in range(64):\n",
    "        if bs[i] == 'r':\n",
    "            r_ray[i] = -1\n",
    "        if bs[i] == 'R':\n",
    "            r_ray[i] = 1 \n",
    "        \n",
    "        if bs[i] == 'b':\n",
    "            b_ray[i] = -1\n",
    "        if bs[i] == 'B':\n",
    "            b_ray[i] = 1\n",
    "        \n",
    "        if bs[i] == 'n':\n",
    "            n_ray[i] = -1\n",
    "        if bs[i] == 'N':\n",
    "            n_ray[i] = 1 \n",
    "    \n",
    "        if bs[i] == 'q':\n",
    "            q_ray[i] = -1\n",
    "        if bs[i] == 'Q':\n",
    "            q_ray[i] = 1\n",
    "    \n",
    "        if bs[i] == 'k':\n",
    "            k_ray[i] = -1\n",
    "        if bs[i] == 'K':\n",
    "            k_ray[i] = 1 \n",
    "        \n",
    "        if bs[i] == 'p':\n",
    "            p_ray[i] = -1\n",
    "        if bs[i] == 'P':\n",
    "            p_ray[i] = 1 \n",
    "    master_ray = np.array((r_ray.astype('int8'), n_ray.astype('int8'), b_ray.astype('int8'), q_ray.astype('int8'), k_ray.astype('int8'), p_ray.astype('int8')))\n",
    "    return(master_ray)"
   ]
  },
  {
   "cell_type": "code",
   "execution_count": null,
   "metadata": {},
   "outputs": [],
   "source": []
  },
  {
   "cell_type": "code",
   "execution_count": 56,
   "metadata": {},
   "outputs": [],
   "source": [
    "test_games = all_san_list[:10]\n"
   ]
  },
  {
   "cell_type": "markdown",
   "metadata": {},
   "source": [
    "### Takes a list of games, with a list of move inside each game, and generates novel board states - StockFish chess engine will then evaluate the positional score of each state and pair it up with "
   ]
  },
  {
   "cell_type": "code",
   "execution_count": 57,
   "metadata": {},
   "outputs": [
    {
     "name": "stdout",
     "output_type": "stream",
     "text": [
      "CPU times: user 4.33 s, sys: 172 ms, total: 4.5 s\n",
      "Wall time: 9.48 s\n"
     ]
    }
   ],
   "source": [
    "%%time\n",
    "list_scores = []\n",
    "engine = chess.engine.SimpleEngine.popen_uci(\"Desktop/stockfish-11-mac 2/Mac/stockfish-11-64\")\n",
    "\n",
    "for game in test_games:\n",
    "    board = chess.Board()\n",
    "    for i in game:\n",
    "        info = engine.analyse(board, chess.engine.Limit(depth=9))\n",
    "        x = str(info['score']).replace('#+', '1000')\n",
    "        x = x.replace('#-', '-1000')\n",
    "        list_scores.append((int(x), get_bitwise(clean_fen(board.board_fen())))) ### takes the\n",
    "        board.push_san(i)\n",
    "        \n"
   ]
  },
  {
   "cell_type": "code",
   "execution_count": null,
   "metadata": {},
   "outputs": [],
   "source": []
  },
  {
   "cell_type": "code",
   "execution_count": 58,
   "metadata": {},
   "outputs": [],
   "source": [
    "### 84 seconds - depth 9 "
   ]
  },
  {
   "cell_type": "code",
   "execution_count": 61,
   "metadata": {},
   "outputs": [
    {
     "data": {
      "text/plain": [
       "array([[-1,  0,  0,  0,  0,  0,  0, -1,  0,  0,  0,  0,  0,  0,  0,  0,\n",
       "         0,  0,  0,  0,  0,  0,  0,  0,  0,  0,  0,  0,  0,  0,  0,  0,\n",
       "         0,  0,  0,  0,  0,  0,  0,  0,  0,  0,  0,  0,  0,  0,  0,  0,\n",
       "         0,  0,  0,  0,  0,  0,  0,  0,  1,  0,  0,  0,  0,  0,  0,  1],\n",
       "       [ 0, -1,  0,  0,  0,  0, -1,  0,  0,  0,  0,  0,  0,  0,  0,  0,\n",
       "         0,  0,  0,  0,  0,  0,  0,  0,  0,  0,  0,  0,  0,  0,  0,  0,\n",
       "         0,  0,  0,  0,  0,  0,  0,  0,  0,  0,  0,  0,  0,  0,  0,  0,\n",
       "         0,  0,  0,  0,  0,  0,  0,  0,  0,  1,  0,  0,  0,  0,  1,  0],\n",
       "       [ 0,  0, -1,  0,  0, -1,  0,  0,  0,  0,  0,  0,  0,  0,  0,  0,\n",
       "         0,  0,  0,  0,  0,  0,  0,  0,  0,  0,  0,  0,  0,  0,  0,  0,\n",
       "         0,  0,  0,  0,  0,  0,  0,  0,  0,  0,  0,  0,  0,  0,  0,  0,\n",
       "         0,  0,  0,  0,  0,  0,  0,  0,  0,  0,  1,  0,  0,  1,  0,  0],\n",
       "       [ 0,  0,  0, -1,  0,  0,  0,  0,  0,  0,  0,  0,  0,  0,  0,  0,\n",
       "         0,  0,  0,  0,  0,  0,  0,  0,  0,  0,  0,  0,  0,  0,  0,  0,\n",
       "         0,  0,  0,  0,  0,  0,  0,  0,  0,  0,  0,  0,  0,  0,  0,  0,\n",
       "         0,  0,  0,  0,  0,  0,  0,  0,  0,  0,  0,  1,  0,  0,  0,  0],\n",
       "       [ 0,  0,  0,  0, -1,  0,  0,  0,  0,  0,  0,  0,  0,  0,  0,  0,\n",
       "         0,  0,  0,  0,  0,  0,  0,  0,  0,  0,  0,  0,  0,  0,  0,  0,\n",
       "         0,  0,  0,  0,  0,  0,  0,  0,  0,  0,  0,  0,  0,  0,  0,  0,\n",
       "         0,  0,  0,  0,  0,  0,  0,  0,  0,  0,  0,  0,  1,  0,  0,  0],\n",
       "       [ 0,  0,  0,  0,  0,  0,  0,  0, -1, -1, -1, -1, -1, -1, -1, -1,\n",
       "         0,  0,  0,  0,  0,  0,  0,  0,  0,  0,  0,  0,  0,  0,  0,  0,\n",
       "         0,  0,  0,  0,  0,  0,  0,  0,  0,  0,  0,  0,  0,  0,  0,  0,\n",
       "         1,  1,  1,  1,  1,  1,  1,  1,  0,  0,  0,  0,  0,  0,  0,  0]],\n",
       "      dtype=int8)"
      ]
     },
     "execution_count": 61,
     "metadata": {},
     "output_type": "execute_result"
    }
   ],
   "source": [
    "df = pd.DataFrame(list_scores)\n",
    "df[1][0]"
   ]
  },
  {
   "cell_type": "code",
   "execution_count": 32,
   "metadata": {},
   "outputs": [],
   "source": [
    "duck = []\n",
    "for i in range(len(list_scores)):\n",
    "    try:\n",
    "        if i % 2:\n",
    "            duck.append((int(str(list_scores[i]))/100, 'white'))\n",
    "        else:\n",
    "            duck.append((int(str(list_scores[i]))/100, 'black'))\n",
    "    except:\n",
    "        continue"
   ]
  },
  {
   "cell_type": "code",
   "execution_count": 33,
   "metadata": {},
   "outputs": [
    {
     "data": {
      "text/plain": [
       "[]"
      ]
     },
     "execution_count": 33,
     "metadata": {},
     "output_type": "execute_result"
    }
   ],
   "source": [
    "duck"
   ]
  },
  {
   "cell_type": "code",
   "execution_count": null,
   "metadata": {},
   "outputs": [],
   "source": [
    "engine = chess.engine.SimpleEngine.popen_uci(\"Desktop/stockfish-11-mac 2/Mac/stockfish-11-64\")"
   ]
  },
  {
   "cell_type": "code",
   "execution_count": null,
   "metadata": {},
   "outputs": [],
   "source": [
    "engine"
   ]
  },
  {
   "cell_type": "code",
   "execution_count": null,
   "metadata": {},
   "outputs": [],
   "source": [
    "board = chess.Board()\n",
    "board.push_san('d4')\n",
    "print(board)\n"
   ]
  },
  {
   "cell_type": "code",
   "execution_count": null,
   "metadata": {},
   "outputs": [],
   "source": []
  },
  {
   "cell_type": "code",
   "execution_count": null,
   "metadata": {},
   "outputs": [],
   "source": []
  }
 ],
 "metadata": {
  "kernelspec": {
   "display_name": "Python 3",
   "language": "python",
   "name": "python3"
  },
  "language_info": {
   "codemirror_mode": {
    "name": "ipython",
    "version": 3
   },
   "file_extension": ".py",
   "mimetype": "text/x-python",
   "name": "python",
   "nbconvert_exporter": "python",
   "pygments_lexer": "ipython3",
   "version": "3.7.4"
  }
 },
 "nbformat": 4,
 "nbformat_minor": 4
}
