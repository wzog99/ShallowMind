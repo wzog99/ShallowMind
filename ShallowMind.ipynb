{
 "cells": [
  {
   "cell_type": "markdown",
   "metadata": {},
   "source": [
    "# ShallowMind \n",
    "## An exploratory endeavor into AI Chess\n"
   ]
  },
  {
   "cell_type": "markdown",
   "metadata": {},
   "source": [
    "#### Download libraries that could aid the process"
   ]
  },
  {
   "cell_type": "code",
   "execution_count": 18,
   "metadata": {},
   "outputs": [],
   "source": [
    "#!pip install python-chess\n",
    "#!pip install pgnparser\n",
    "#!pip install pgnlib\n",
    "#!pip install ipython-autotime ### time is becoming an issue..."
   ]
  },
  {
   "cell_type": "markdown",
   "metadata": {},
   "source": [
    "#### Import libraries for EDA, and processing"
   ]
  },
  {
   "cell_type": "code",
   "execution_count": 19,
   "metadata": {},
   "outputs": [],
   "source": [
    "import chess\n",
    "import pgn\n",
    "\n",
    "import pandas as pd\n",
    "import numpy as np\n",
    "\n",
    "import itertools"
   ]
  },
  {
   "cell_type": "markdown",
   "metadata": {},
   "source": [
    "### Useful sources of Chess game data - \n",
    "Chess GrandMaster games: https://chess-db.com/public/downloads/gamesfordownload.jsp - 275,606 games\n",
    "\n",
    "\n",
    "#### Note parsing pgn file data returns only the first game in the file, limited documentation availble for further explorating.\n",
    "#### More processing required to access game lines and results."
   ]
  },
  {
   "cell_type": "code",
   "execution_count": 64,
   "metadata": {},
   "outputs": [
    {
     "name": "stdout",
     "output_type": "stream",
     "text": [
      "1. d4 e6 2. c4 d5 3. Nf3 Nf6 4. Nc3 Bb4 5. Bg5 h6 6. Bxf6 Qxf6 7. e3 O-O 8. Rc1 dxc4 9. Bxc4 c5 10. O-O cxd4 11. Ne4 Qe7 12. exd4 Nc6 13. Qe2 Bd7 14. a3 Bd6 15. Rfd1 Rad8 16. Qe3 Rfe8 17. b4 a6 18. Be2 Nb8 19. Ne5 Ba4 20. Rd2 Bxe5 21. dxe5 Rxd2 22. Qxd2 Rd8 23. Qb2 Bc6 24. Nd6 Bd5 25. f4 Nc6 26. a4 Qc7 27. b5 Qb6+ 28. Kf1 axb5 29. axb5 Ne7 30. Qc3 Rf8 31. Qc5 Qa5 32. Rd1 Qa2 33. g3 f6 34. exf6 Rxf6 35. Qc3 Qa7 36. Ne8 Rf7 37. Bh5 g6 38. Nf6+ Rxf6 39. Qxf6 gxh5 40. Qxe7 Bc4+ 41. Kg2 Bd5+ 42. Kh3 Qa2 43. Rxd5 Qxd5 44. Kh4 Qxb5 45. Qxe6+ Kg7 46. f5 Qc6 47. Qe7+ Kg8 48. Kxh5 b5 49. g4 b4 50. Qxb4 Qc7 51. Qb3+ Kh8 52. Qe6 Qf7+ 53. Qg6 Qc7 54. Qxh6+ Kg8 55. Qe6+ Kh8 56. Qe8+ Kh7 57. h4 Qb7 58. Qg6+ Kh8 59. Qh6+ Kg8 60. Qe6+ Kh8 61. g5 Qf7+ 62. g6 Qf8 63. g7+\n",
      "\n"
     ]
    }
   ],
   "source": [
    "import chess.pgn\n",
    "pgn_file = open(\"pgnprepro.pgn\")\n",
    "first_game = chess.pgn.read_game(pgn_file)\n",
    "\n",
    "print(f\"{first_game.mainline_moves()}\\n\") #fancy built in method for accessing the moves\n"
   ]
  },
  {
   "cell_type": "markdown",
   "metadata": {},
   "source": [
    "#### Work-around for accesing moves and results"
   ]
  },
  {
   "cell_type": "code",
   "execution_count": 134,
   "metadata": {},
   "outputs": [],
   "source": [
    "game_list = [line for line in open('pgnprepro.pgn')] \n",
    "\n",
    "all_moves_list = []\n",
    "i = 11\n",
    "while i <= (len(game_list)):\n",
    "    all_moves_list.append(game_list[i])\n",
    "    i += 16\n",
    "    \n",
    "    \n",
    "all_results = []\n",
    "i = 13\n",
    "while i <= (len(game_list)):\n",
    "    all_results.append(game_list[i])\n",
    "    i += 16"
   ]
  },
  {
   "cell_type": "code",
   "execution_count": 135,
   "metadata": {},
   "outputs": [
    {
     "data": {
      "text/plain": [
       "(10, 10)"
      ]
     },
     "execution_count": 135,
     "metadata": {},
     "output_type": "execute_result"
    }
   ],
   "source": [
    "len(all_moves_list), len(all_results)"
   ]
  },
  {
   "cell_type": "markdown",
   "metadata": {},
   "source": [
    "#### Function that cleans up the move string string"
   ]
  },
  {
   "cell_type": "code",
   "execution_count": 136,
   "metadata": {},
   "outputs": [],
   "source": [
    "def get_move_list(move_string): #### input is a string \n",
    "    '''\n",
    "    Takes a move string that was striped from a PGN format, and removes unwanted characters and conserves SAN format.\n",
    "    '''\n",
    "    testing = move_string \n",
    "    testing = testing[0:-2]  ### remove last 2 characters = '\\n'\n",
    "    testing = testing.split('. ')\n",
    "\n",
    "    for i in range(len(testing)):\n",
    "        testing[i] = testing[i].split(' ')\n",
    "    for i in testing:\n",
    "        try:\n",
    "            del(i[2])\n",
    "        except:\n",
    "            continue\n",
    "    del(testing[0])\n",
    "\n",
    "    simplelist = list(itertools.chain.from_iterable(testing))\n",
    "    return(simplelist)"
   ]
  },
  {
   "cell_type": "markdown",
   "metadata": {},
   "source": [
    "#### Function that clean up the results"
   ]
  },
  {
   "cell_type": "code",
   "execution_count": 148,
   "metadata": {},
   "outputs": [],
   "source": [
    "def white_results(result_string_list):\n",
    "    white_result_list = []\n",
    "    for i in range(len(result_string_list)):\n",
    "            result = result_string_list[i][:-1]\n",
    "            result = result.replace('1-0', 'win')\n",
    "            result = result.replace('0-1', 'lose')\n",
    "            result = result.replace('1/2-1/2', 'draw')\n",
    "            white_result_list.append(result)\n",
    "    return(white_result_list)"
   ]
  },
  {
   "cell_type": "code",
   "execution_count": 150,
   "metadata": {},
   "outputs": [
    {
     "data": {
      "text/plain": [
       "['win', 'lose', 'draw', 'win', 'draw', 'win', 'win', 'win', 'lose', 'draw']"
      ]
     },
     "execution_count": 150,
     "metadata": {},
     "output_type": "execute_result"
    }
   ],
   "source": [
    "white_results(all_results)"
   ]
  },
  {
   "cell_type": "markdown",
   "metadata": {},
   "source": [
    "#### Converts string of all the game moves into lists of moves in standard algebraic notation (san) "
   ]
  },
  {
   "cell_type": "code",
   "execution_count": 68,
   "metadata": {},
   "outputs": [
    {
     "data": {
      "text/plain": [
       "'\\n%%time\\nall_san_list = [] #### SLOW - need list comprehension maybe quicker?\\nfor game in all_moves_list:\\n    all_san_list.append(get_move_list(game))\\n'"
      ]
     },
     "execution_count": 68,
     "metadata": {},
     "output_type": "execute_result"
    }
   ],
   "source": [
    "'''\n",
    "%%time\n",
    "all_san_list = [] #### SLOW - need list comprehension maybe quicker?\n",
    "for game in all_moves_list:\n",
    "    all_san_list.append(get_move_list(game))\n",
    "'''"
   ]
  },
  {
   "cell_type": "code",
   "execution_count": 69,
   "metadata": {},
   "outputs": [
    {
     "name": "stdout",
     "output_type": "stream",
     "text": [
      "CPU times: user 661 µs, sys: 20 µs, total: 681 µs\n",
      "Wall time: 690 µs\n"
     ]
    }
   ],
   "source": [
    "%%time\n",
    "all_san_list = [get_move_list(game) for game in all_moves_list] "
   ]
  },
  {
   "cell_type": "code",
   "execution_count": 152,
   "metadata": {},
   "outputs": [
    {
     "data": {
      "text/plain": [
       "'e6'"
      ]
     },
     "execution_count": 152,
     "metadata": {},
     "output_type": "execute_result"
    }
   ],
   "source": [
    "all_san_list[0]"
   ]
  },
  {
   "cell_type": "markdown",
   "metadata": {},
   "source": [
    "#### Creating a function that cleans up FEN notation"
   ]
  },
  {
   "cell_type": "code",
   "execution_count": 102,
   "metadata": {},
   "outputs": [],
   "source": [
    "def clean_fen(string):\n",
    "    '''\n",
    "    Takes a fen with misc. \n",
    "    '''\n",
    "    string = string.replace('8','1'*8)\n",
    "    string = string.replace('7','1'*7)\n",
    "    string = string.replace('6','1'*6)\n",
    "    string = string.replace('5','1'*5)\n",
    "    string = string.replace('4','1'*4)\n",
    "    string = string.replace('3','1'*3)\n",
    "    string = string.replace('2','1'*2)\n",
    "    string = string.replace('1','1'*1)\n",
    "    string = string.replace('/','')\n",
    "    string_list = [i for i in string]\n",
    "    return(string_list)"
   ]
  },
  {
   "cell_type": "markdown",
   "metadata": {},
   "source": [
    "#### Creating function that converts moves to board states as Forsyth Enumerated Notation (FEN)"
   ]
  },
  {
   "cell_type": "code",
   "execution_count": 103,
   "metadata": {},
   "outputs": [],
   "source": [
    "def get_board_state(move_list): ### i from all move_list \n",
    "    game = move_list\n",
    "    board = chess.Board()\n",
    "\n",
    "    board_states = []\n",
    "    for move in game:\n",
    "        try:\n",
    "            bs = board.board_fen()\n",
    "            board_states.append(clean_fen(bs))\n",
    "            board.push_san(move)\n",
    "        except:\n",
    "            continue\n",
    "    return(board_states)"
   ]
  },
  {
   "cell_type": "code",
   "execution_count": 104,
   "metadata": {},
   "outputs": [],
   "source": [
    "def get_board_state_string(move_list): \n",
    "    game = move_list\n",
    "    board = chess.Board()\n",
    "\n",
    "    board_states = []\n",
    "    for move in game:\n",
    "        try:\n",
    "            board_states.append(board.board_fen())\n",
    "            board.push_san(move)\n",
    "        except:\n",
    "            continue\n",
    "    return(board_states)"
   ]
  },
  {
   "cell_type": "code",
   "execution_count": 153,
   "metadata": {},
   "outputs": [
    {
     "name": "stdout",
     "output_type": "stream",
     "text": [
      "CPU times: user 178 ms, sys: 6.23 ms, total: 184 ms\n",
      "Wall time: 254 ms\n"
     ]
    }
   ],
   "source": [
    "%%time\n",
    "all_board_state_list = []\n",
    "for game in all_san_list:\n",
    "    all_board_state_list.append(get_board_state(game))"
   ]
  },
  {
   "cell_type": "code",
   "execution_count": 107,
   "metadata": {},
   "outputs": [
    {
     "name": "stdout",
     "output_type": "stream",
     "text": [
      "CPU times: user 21.2 ms, sys: 2.07 ms, total: 23.2 ms\n",
      "Wall time: 26.7 ms\n"
     ]
    }
   ],
   "source": [
    "%%time\n",
    "df_board_states = pd.DataFrame(all_board_state_list)"
   ]
  },
  {
   "cell_type": "code",
   "execution_count": 124,
   "metadata": {},
   "outputs": [
    {
     "data": {
      "text/html": [
       "<div>\n",
       "<style scoped>\n",
       "    .dataframe tbody tr th:only-of-type {\n",
       "        vertical-align: middle;\n",
       "    }\n",
       "\n",
       "    .dataframe tbody tr th {\n",
       "        vertical-align: top;\n",
       "    }\n",
       "\n",
       "    .dataframe thead th {\n",
       "        text-align: right;\n",
       "    }\n",
       "</style>\n",
       "<table border=\"1\" class=\"dataframe\">\n",
       "  <thead>\n",
       "    <tr style=\"text-align: right;\">\n",
       "      <th></th>\n",
       "      <th>0</th>\n",
       "      <th>1</th>\n",
       "      <th>2</th>\n",
       "      <th>3</th>\n",
       "      <th>4</th>\n",
       "      <th>5</th>\n",
       "      <th>6</th>\n",
       "      <th>7</th>\n",
       "      <th>8</th>\n",
       "      <th>9</th>\n",
       "      <th>...</th>\n",
       "      <th>115</th>\n",
       "      <th>116</th>\n",
       "      <th>117</th>\n",
       "      <th>118</th>\n",
       "      <th>119</th>\n",
       "      <th>120</th>\n",
       "      <th>121</th>\n",
       "      <th>122</th>\n",
       "      <th>123</th>\n",
       "      <th>124</th>\n",
       "    </tr>\n",
       "  </thead>\n",
       "  <tbody>\n",
       "    <tr>\n",
       "      <td>0</td>\n",
       "      <td>[r, n, b, q, k, b, n, r, p, p, p, p, p, p, p, ...</td>\n",
       "      <td>[r, n, b, q, k, b, n, r, p, p, p, p, p, p, p, ...</td>\n",
       "      <td>[r, n, b, q, k, b, n, r, p, p, p, p, 1, p, p, ...</td>\n",
       "      <td>[r, n, b, q, k, b, n, r, p, p, p, p, 1, p, p, ...</td>\n",
       "      <td>[r, n, b, q, k, b, n, r, p, p, p, 1, 1, p, p, ...</td>\n",
       "      <td>[r, n, b, q, k, b, n, r, p, p, p, 1, 1, p, p, ...</td>\n",
       "      <td>[r, n, b, q, k, b, 1, r, p, p, p, 1, 1, p, p, ...</td>\n",
       "      <td>[r, n, b, q, k, b, 1, r, p, p, p, 1, 1, p, p, ...</td>\n",
       "      <td>[r, n, b, q, k, 1, 1, r, p, p, p, 1, 1, p, p, ...</td>\n",
       "      <td>[r, n, b, q, k, 1, 1, r, p, p, p, 1, 1, p, p, ...</td>\n",
       "      <td>...</td>\n",
       "      <td>[1, 1, 1, 1, 1, 1, 1, 1, 1, q, 1, 1, 1, 1, 1, ...</td>\n",
       "      <td>[1, 1, 1, 1, 1, 1, 1, k, 1, q, 1, 1, 1, 1, 1, ...</td>\n",
       "      <td>[1, 1, 1, 1, 1, 1, 1, k, 1, q, 1, 1, 1, 1, 1, ...</td>\n",
       "      <td>[1, 1, 1, 1, 1, 1, k, 1, 1, q, 1, 1, 1, 1, 1, ...</td>\n",
       "      <td>[1, 1, 1, 1, 1, 1, k, 1, 1, q, 1, 1, 1, 1, 1, ...</td>\n",
       "      <td>[1, 1, 1, 1, 1, 1, 1, k, 1, q, 1, 1, 1, 1, 1, ...</td>\n",
       "      <td>[1, 1, 1, 1, 1, 1, 1, k, 1, q, 1, 1, 1, 1, 1, ...</td>\n",
       "      <td>[1, 1, 1, 1, 1, 1, 1, k, 1, 1, 1, 1, 1, q, 1, ...</td>\n",
       "      <td>[1, 1, 1, 1, 1, 1, 1, k, 1, 1, 1, 1, 1, q, 1, ...</td>\n",
       "      <td>[1, 1, 1, 1, 1, q, 1, k, 1, 1, 1, 1, 1, 1, 1, ...</td>\n",
       "    </tr>\n",
       "  </tbody>\n",
       "</table>\n",
       "<p>1 rows × 125 columns</p>\n",
       "</div>"
      ],
      "text/plain": [
       "                                                 0    \\\n",
       "0  [r, n, b, q, k, b, n, r, p, p, p, p, p, p, p, ...   \n",
       "\n",
       "                                                 1    \\\n",
       "0  [r, n, b, q, k, b, n, r, p, p, p, p, p, p, p, ...   \n",
       "\n",
       "                                                 2    \\\n",
       "0  [r, n, b, q, k, b, n, r, p, p, p, p, 1, p, p, ...   \n",
       "\n",
       "                                                 3    \\\n",
       "0  [r, n, b, q, k, b, n, r, p, p, p, p, 1, p, p, ...   \n",
       "\n",
       "                                                 4    \\\n",
       "0  [r, n, b, q, k, b, n, r, p, p, p, 1, 1, p, p, ...   \n",
       "\n",
       "                                                 5    \\\n",
       "0  [r, n, b, q, k, b, n, r, p, p, p, 1, 1, p, p, ...   \n",
       "\n",
       "                                                 6    \\\n",
       "0  [r, n, b, q, k, b, 1, r, p, p, p, 1, 1, p, p, ...   \n",
       "\n",
       "                                                 7    \\\n",
       "0  [r, n, b, q, k, b, 1, r, p, p, p, 1, 1, p, p, ...   \n",
       "\n",
       "                                                 8    \\\n",
       "0  [r, n, b, q, k, 1, 1, r, p, p, p, 1, 1, p, p, ...   \n",
       "\n",
       "                                                 9    ...  \\\n",
       "0  [r, n, b, q, k, 1, 1, r, p, p, p, 1, 1, p, p, ...  ...   \n",
       "\n",
       "                                                 115  \\\n",
       "0  [1, 1, 1, 1, 1, 1, 1, 1, 1, q, 1, 1, 1, 1, 1, ...   \n",
       "\n",
       "                                                 116  \\\n",
       "0  [1, 1, 1, 1, 1, 1, 1, k, 1, q, 1, 1, 1, 1, 1, ...   \n",
       "\n",
       "                                                 117  \\\n",
       "0  [1, 1, 1, 1, 1, 1, 1, k, 1, q, 1, 1, 1, 1, 1, ...   \n",
       "\n",
       "                                                 118  \\\n",
       "0  [1, 1, 1, 1, 1, 1, k, 1, 1, q, 1, 1, 1, 1, 1, ...   \n",
       "\n",
       "                                                 119  \\\n",
       "0  [1, 1, 1, 1, 1, 1, k, 1, 1, q, 1, 1, 1, 1, 1, ...   \n",
       "\n",
       "                                                 120  \\\n",
       "0  [1, 1, 1, 1, 1, 1, 1, k, 1, q, 1, 1, 1, 1, 1, ...   \n",
       "\n",
       "                                                 121  \\\n",
       "0  [1, 1, 1, 1, 1, 1, 1, k, 1, q, 1, 1, 1, 1, 1, ...   \n",
       "\n",
       "                                                 122  \\\n",
       "0  [1, 1, 1, 1, 1, 1, 1, k, 1, 1, 1, 1, 1, q, 1, ...   \n",
       "\n",
       "                                                 123  \\\n",
       "0  [1, 1, 1, 1, 1, 1, 1, k, 1, 1, 1, 1, 1, q, 1, ...   \n",
       "\n",
       "                                                 124  \n",
       "0  [1, 1, 1, 1, 1, q, 1, k, 1, 1, 1, 1, 1, 1, 1, ...  \n",
       "\n",
       "[1 rows x 125 columns]"
      ]
     },
     "execution_count": 124,
     "metadata": {},
     "output_type": "execute_result"
    }
   ],
   "source": []
  },
  {
   "cell_type": "code",
   "execution_count": 95,
   "metadata": {},
   "outputs": [
    {
     "data": {
      "text/html": [
       "<div>\n",
       "<style scoped>\n",
       "    .dataframe tbody tr th:only-of-type {\n",
       "        vertical-align: middle;\n",
       "    }\n",
       "\n",
       "    .dataframe tbody tr th {\n",
       "        vertical-align: top;\n",
       "    }\n",
       "\n",
       "    .dataframe thead th {\n",
       "        text-align: right;\n",
       "    }\n",
       "</style>\n",
       "<table border=\"1\" class=\"dataframe\">\n",
       "  <thead>\n",
       "    <tr style=\"text-align: right;\">\n",
       "      <th></th>\n",
       "      <th>0</th>\n",
       "      <th>1</th>\n",
       "      <th>2</th>\n",
       "      <th>3</th>\n",
       "      <th>4</th>\n",
       "      <th>5</th>\n",
       "      <th>6</th>\n",
       "      <th>7</th>\n",
       "      <th>8</th>\n",
       "      <th>9</th>\n",
       "      <th>...</th>\n",
       "      <th>115</th>\n",
       "      <th>116</th>\n",
       "      <th>117</th>\n",
       "      <th>118</th>\n",
       "      <th>119</th>\n",
       "      <th>120</th>\n",
       "      <th>121</th>\n",
       "      <th>122</th>\n",
       "      <th>123</th>\n",
       "      <th>124</th>\n",
       "    </tr>\n",
       "  </thead>\n",
       "  <tbody>\n",
       "    <tr>\n",
       "      <td>0</td>\n",
       "      <td>rnbqkbnr/pppppppp/8/8/8/8/PPPPPPPP/RNBQKBNR</td>\n",
       "      <td>rnbqkbnr/pppppppp/8/8/3P4/8/PPP1PPPP/RNBQKBNR</td>\n",
       "      <td>rnbqkbnr/pppp1ppp/4p3/8/3P4/8/PPP1PPPP/RNBQKBNR</td>\n",
       "      <td>rnbqkbnr/pppp1ppp/4p3/8/2PP4/8/PP2PPPP/RNBQKBNR</td>\n",
       "      <td>rnbqkbnr/ppp2ppp/4p3/3p4/2PP4/8/PP2PPPP/RNBQKBNR</td>\n",
       "      <td>rnbqkbnr/ppp2ppp/4p3/3p4/2PP4/5N2/PP2PPPP/RNBQ...</td>\n",
       "      <td>rnbqkb1r/ppp2ppp/4pn2/3p4/2PP4/5N2/PP2PPPP/RNB...</td>\n",
       "      <td>rnbqkb1r/ppp2ppp/4pn2/3p4/2PP4/2N2N2/PP2PPPP/R...</td>\n",
       "      <td>rnbqk2r/ppp2ppp/4pn2/3p4/1bPP4/2N2N2/PP2PPPP/R...</td>\n",
       "      <td>rnbqk2r/ppp2ppp/4pn2/3p2B1/1bPP4/2N2N2/PP2PPPP...</td>\n",
       "      <td>...</td>\n",
       "      <td>8/1q5k/6Q1/5P1K/6PP/8/8/8</td>\n",
       "      <td>7k/1q6/6Q1/5P1K/6PP/8/8/8</td>\n",
       "      <td>7k/1q6/7Q/5P1K/6PP/8/8/8</td>\n",
       "      <td>6k1/1q6/7Q/5P1K/6PP/8/8/8</td>\n",
       "      <td>6k1/1q6/4Q3/5P1K/6PP/8/8/8</td>\n",
       "      <td>7k/1q6/4Q3/5P1K/6PP/8/8/8</td>\n",
       "      <td>7k/1q6/4Q3/5PPK/7P/8/8/8</td>\n",
       "      <td>7k/5q2/4Q3/5PPK/7P/8/8/8</td>\n",
       "      <td>7k/5q2/4Q1P1/5P1K/7P/8/8/8</td>\n",
       "      <td>5q1k/8/4Q1P1/5P1K/7P/8/8/8</td>\n",
       "    </tr>\n",
       "    <tr>\n",
       "      <td>1</td>\n",
       "      <td>rnbqkbnr/pppppppp/8/8/8/8/PPPPPPPP/RNBQKBNR</td>\n",
       "      <td>rnbqkbnr/pppppppp/8/8/3P4/8/PPP1PPPP/RNBQKBNR</td>\n",
       "      <td>rnbqkb1r/pppppppp/5n2/8/3P4/8/PPP1PPPP/RNBQKBNR</td>\n",
       "      <td>rnbqkb1r/pppppppp/5n2/8/2PP4/8/PP2PPPP/RNBQKBNR</td>\n",
       "      <td>rnbqkb1r/pppppp1p/5np1/8/2PP4/8/PP2PPPP/RNBQKBNR</td>\n",
       "      <td>rnbqkb1r/pppppp1p/5np1/8/2PP4/2N5/PP2PPPP/R1BQ...</td>\n",
       "      <td>rnbqkb1r/ppp1pp1p/5np1/3p4/2PP4/2N5/PP2PPPP/R1...</td>\n",
       "      <td>rnbqkb1r/ppp1pp1p/5np1/3P4/3P4/2N5/PP2PPPP/R1B...</td>\n",
       "      <td>rnbqkb1r/ppp1pp1p/6p1/3n4/3P4/2N5/PP2PPPP/R1BQ...</td>\n",
       "      <td>rnbqkb1r/ppp1pp1p/6p1/3n4/3P4/2N1P3/PP3PPP/R1B...</td>\n",
       "      <td>...</td>\n",
       "      <td>8/p2P2Bk/8/1p6/8/8/6RK/4q3</td>\n",
       "      <td>8/p2Pq1Bk/8/1p6/8/8/6RK/8</td>\n",
       "      <td>8/p2Pq1Bk/8/1p6/8/8/3R3K/8</td>\n",
       "      <td>8/p2P2Bk/8/1p6/7q/8/3R3K/8</td>\n",
       "      <td>8/p2P2Bk/8/1p6/7q/8/3R4/6K1</td>\n",
       "      <td>None</td>\n",
       "      <td>None</td>\n",
       "      <td>None</td>\n",
       "      <td>None</td>\n",
       "      <td>None</td>\n",
       "    </tr>\n",
       "    <tr>\n",
       "      <td>2</td>\n",
       "      <td>rnbqkbnr/pppppppp/8/8/8/8/PPPPPPPP/RNBQKBNR</td>\n",
       "      <td>rnbqkbnr/pppppppp/8/8/4P3/8/PPPP1PPP/RNBQKBNR</td>\n",
       "      <td>rnbqkbnr/pppp1ppp/4p3/8/4P3/8/PPPP1PPP/RNBQKBNR</td>\n",
       "      <td>rnbqkbnr/pppp1ppp/4p3/8/3PP3/8/PPP2PPP/RNBQKBNR</td>\n",
       "      <td>rnbqkbnr/ppp2ppp/4p3/3p4/3PP3/8/PPP2PPP/RNBQKBNR</td>\n",
       "      <td>rnbqkbnr/ppp2ppp/4p3/3p4/3PP3/2N5/PPP2PPP/R1BQ...</td>\n",
       "      <td>rnbqkb1r/ppp2ppp/4pn2/3p4/3PP3/2N5/PPP2PPP/R1B...</td>\n",
       "      <td>rnbqkb1r/ppp2ppp/4pn2/3p2B1/3PP3/2N5/PPP2PPP/R...</td>\n",
       "      <td>rnbqkb1r/ppp2ppp/4pn2/6B1/3Pp3/2N5/PPP2PPP/R2Q...</td>\n",
       "      <td>rnbqkb1r/ppp2ppp/4pn2/6B1/3PN3/8/PPP2PPP/R2QKBNR</td>\n",
       "      <td>...</td>\n",
       "      <td>None</td>\n",
       "      <td>None</td>\n",
       "      <td>None</td>\n",
       "      <td>None</td>\n",
       "      <td>None</td>\n",
       "      <td>None</td>\n",
       "      <td>None</td>\n",
       "      <td>None</td>\n",
       "      <td>None</td>\n",
       "      <td>None</td>\n",
       "    </tr>\n",
       "    <tr>\n",
       "      <td>3</td>\n",
       "      <td>rnbqkbnr/pppppppp/8/8/8/8/PPPPPPPP/RNBQKBNR</td>\n",
       "      <td>rnbqkbnr/pppppppp/8/8/4P3/8/PPPP1PPP/RNBQKBNR</td>\n",
       "      <td>rnbqkbnr/pp1ppppp/8/2p5/4P3/8/PPPP1PPP/RNBQKBNR</td>\n",
       "      <td>rnbqkbnr/pp1ppppp/8/2p5/4P3/5N2/PPPP1PPP/RNBQKB1R</td>\n",
       "      <td>rnbqkbnr/pp2pppp/3p4/2p5/4P3/5N2/PPPP1PPP/RNBQ...</td>\n",
       "      <td>rnbqkbnr/pp2pppp/3p4/1Bp5/4P3/5N2/PPPP1PPP/RNB...</td>\n",
       "      <td>r1bqkbnr/pp1npppp/3p4/1Bp5/4P3/5N2/PPPP1PPP/RN...</td>\n",
       "      <td>r1bqkbnr/pp1npppp/3p4/1Bp5/4P3/5N2/PPPP1PPP/RN...</td>\n",
       "      <td>r1bqkbnr/1p1npppp/p2p4/1Bp5/4P3/5N2/PPPP1PPP/R...</td>\n",
       "      <td>r1bqkbnr/1p1npppp/p2p4/2p5/4P3/3B1N2/PPPP1PPP/...</td>\n",
       "      <td>...</td>\n",
       "      <td>None</td>\n",
       "      <td>None</td>\n",
       "      <td>None</td>\n",
       "      <td>None</td>\n",
       "      <td>None</td>\n",
       "      <td>None</td>\n",
       "      <td>None</td>\n",
       "      <td>None</td>\n",
       "      <td>None</td>\n",
       "      <td>None</td>\n",
       "    </tr>\n",
       "    <tr>\n",
       "      <td>4</td>\n",
       "      <td>rnbqkbnr/pppppppp/8/8/8/8/PPPPPPPP/RNBQKBNR</td>\n",
       "      <td>rnbqkbnr/pppppppp/8/8/4P3/8/PPPP1PPP/RNBQKBNR</td>\n",
       "      <td>rnbqkbnr/pppp1ppp/8/4p3/4P3/8/PPPP1PPP/RNBQKBNR</td>\n",
       "      <td>rnbqkbnr/pppp1ppp/8/4p3/4P3/5N2/PPPP1PPP/RNBQKB1R</td>\n",
       "      <td>r1bqkbnr/pppp1ppp/2n5/4p3/4P3/5N2/PPPP1PPP/RNB...</td>\n",
       "      <td>r1bqkbnr/pppp1ppp/2n5/4p3/3PP3/5N2/PPP2PPP/RNB...</td>\n",
       "      <td>r1bqkbnr/pppp1ppp/2n5/8/3pP3/5N2/PPP2PPP/RNBQKB1R</td>\n",
       "      <td>r1bqkbnr/pppp1ppp/2n5/8/3NP3/8/PPP2PPP/RNBQKB1R</td>\n",
       "      <td>r1bqk1nr/pppp1ppp/2n5/2b5/3NP3/8/PPP2PPP/RNBQKB1R</td>\n",
       "      <td>r1bqk1nr/pppp1ppp/2n5/2b5/4P3/1N6/PPP2PPP/RNBQ...</td>\n",
       "      <td>...</td>\n",
       "      <td>None</td>\n",
       "      <td>None</td>\n",
       "      <td>None</td>\n",
       "      <td>None</td>\n",
       "      <td>None</td>\n",
       "      <td>None</td>\n",
       "      <td>None</td>\n",
       "      <td>None</td>\n",
       "      <td>None</td>\n",
       "      <td>None</td>\n",
       "    </tr>\n",
       "  </tbody>\n",
       "</table>\n",
       "<p>5 rows × 125 columns</p>\n",
       "</div>"
      ],
      "text/plain": [
       "                                           0    \\\n",
       "0  rnbqkbnr/pppppppp/8/8/8/8/PPPPPPPP/RNBQKBNR   \n",
       "1  rnbqkbnr/pppppppp/8/8/8/8/PPPPPPPP/RNBQKBNR   \n",
       "2  rnbqkbnr/pppppppp/8/8/8/8/PPPPPPPP/RNBQKBNR   \n",
       "3  rnbqkbnr/pppppppp/8/8/8/8/PPPPPPPP/RNBQKBNR   \n",
       "4  rnbqkbnr/pppppppp/8/8/8/8/PPPPPPPP/RNBQKBNR   \n",
       "\n",
       "                                             1    \\\n",
       "0  rnbqkbnr/pppppppp/8/8/3P4/8/PPP1PPPP/RNBQKBNR   \n",
       "1  rnbqkbnr/pppppppp/8/8/3P4/8/PPP1PPPP/RNBQKBNR   \n",
       "2  rnbqkbnr/pppppppp/8/8/4P3/8/PPPP1PPP/RNBQKBNR   \n",
       "3  rnbqkbnr/pppppppp/8/8/4P3/8/PPPP1PPP/RNBQKBNR   \n",
       "4  rnbqkbnr/pppppppp/8/8/4P3/8/PPPP1PPP/RNBQKBNR   \n",
       "\n",
       "                                               2    \\\n",
       "0  rnbqkbnr/pppp1ppp/4p3/8/3P4/8/PPP1PPPP/RNBQKBNR   \n",
       "1  rnbqkb1r/pppppppp/5n2/8/3P4/8/PPP1PPPP/RNBQKBNR   \n",
       "2  rnbqkbnr/pppp1ppp/4p3/8/4P3/8/PPPP1PPP/RNBQKBNR   \n",
       "3  rnbqkbnr/pp1ppppp/8/2p5/4P3/8/PPPP1PPP/RNBQKBNR   \n",
       "4  rnbqkbnr/pppp1ppp/8/4p3/4P3/8/PPPP1PPP/RNBQKBNR   \n",
       "\n",
       "                                                 3    \\\n",
       "0    rnbqkbnr/pppp1ppp/4p3/8/2PP4/8/PP2PPPP/RNBQKBNR   \n",
       "1    rnbqkb1r/pppppppp/5n2/8/2PP4/8/PP2PPPP/RNBQKBNR   \n",
       "2    rnbqkbnr/pppp1ppp/4p3/8/3PP3/8/PPP2PPP/RNBQKBNR   \n",
       "3  rnbqkbnr/pp1ppppp/8/2p5/4P3/5N2/PPPP1PPP/RNBQKB1R   \n",
       "4  rnbqkbnr/pppp1ppp/8/4p3/4P3/5N2/PPPP1PPP/RNBQKB1R   \n",
       "\n",
       "                                                 4    \\\n",
       "0   rnbqkbnr/ppp2ppp/4p3/3p4/2PP4/8/PP2PPPP/RNBQKBNR   \n",
       "1   rnbqkb1r/pppppp1p/5np1/8/2PP4/8/PP2PPPP/RNBQKBNR   \n",
       "2   rnbqkbnr/ppp2ppp/4p3/3p4/3PP3/8/PPP2PPP/RNBQKBNR   \n",
       "3  rnbqkbnr/pp2pppp/3p4/2p5/4P3/5N2/PPPP1PPP/RNBQ...   \n",
       "4  r1bqkbnr/pppp1ppp/2n5/4p3/4P3/5N2/PPPP1PPP/RNB...   \n",
       "\n",
       "                                                 5    \\\n",
       "0  rnbqkbnr/ppp2ppp/4p3/3p4/2PP4/5N2/PP2PPPP/RNBQ...   \n",
       "1  rnbqkb1r/pppppp1p/5np1/8/2PP4/2N5/PP2PPPP/R1BQ...   \n",
       "2  rnbqkbnr/ppp2ppp/4p3/3p4/3PP3/2N5/PPP2PPP/R1BQ...   \n",
       "3  rnbqkbnr/pp2pppp/3p4/1Bp5/4P3/5N2/PPPP1PPP/RNB...   \n",
       "4  r1bqkbnr/pppp1ppp/2n5/4p3/3PP3/5N2/PPP2PPP/RNB...   \n",
       "\n",
       "                                                 6    \\\n",
       "0  rnbqkb1r/ppp2ppp/4pn2/3p4/2PP4/5N2/PP2PPPP/RNB...   \n",
       "1  rnbqkb1r/ppp1pp1p/5np1/3p4/2PP4/2N5/PP2PPPP/R1...   \n",
       "2  rnbqkb1r/ppp2ppp/4pn2/3p4/3PP3/2N5/PPP2PPP/R1B...   \n",
       "3  r1bqkbnr/pp1npppp/3p4/1Bp5/4P3/5N2/PPPP1PPP/RN...   \n",
       "4  r1bqkbnr/pppp1ppp/2n5/8/3pP3/5N2/PPP2PPP/RNBQKB1R   \n",
       "\n",
       "                                                 7    \\\n",
       "0  rnbqkb1r/ppp2ppp/4pn2/3p4/2PP4/2N2N2/PP2PPPP/R...   \n",
       "1  rnbqkb1r/ppp1pp1p/5np1/3P4/3P4/2N5/PP2PPPP/R1B...   \n",
       "2  rnbqkb1r/ppp2ppp/4pn2/3p2B1/3PP3/2N5/PPP2PPP/R...   \n",
       "3  r1bqkbnr/pp1npppp/3p4/1Bp5/4P3/5N2/PPPP1PPP/RN...   \n",
       "4    r1bqkbnr/pppp1ppp/2n5/8/3NP3/8/PPP2PPP/RNBQKB1R   \n",
       "\n",
       "                                                 8    \\\n",
       "0  rnbqk2r/ppp2ppp/4pn2/3p4/1bPP4/2N2N2/PP2PPPP/R...   \n",
       "1  rnbqkb1r/ppp1pp1p/6p1/3n4/3P4/2N5/PP2PPPP/R1BQ...   \n",
       "2  rnbqkb1r/ppp2ppp/4pn2/6B1/3Pp3/2N5/PPP2PPP/R2Q...   \n",
       "3  r1bqkbnr/1p1npppp/p2p4/1Bp5/4P3/5N2/PPPP1PPP/R...   \n",
       "4  r1bqk1nr/pppp1ppp/2n5/2b5/3NP3/8/PPP2PPP/RNBQKB1R   \n",
       "\n",
       "                                                 9    ...  \\\n",
       "0  rnbqk2r/ppp2ppp/4pn2/3p2B1/1bPP4/2N2N2/PP2PPPP...  ...   \n",
       "1  rnbqkb1r/ppp1pp1p/6p1/3n4/3P4/2N1P3/PP3PPP/R1B...  ...   \n",
       "2   rnbqkb1r/ppp2ppp/4pn2/6B1/3PN3/8/PPP2PPP/R2QKBNR  ...   \n",
       "3  r1bqkbnr/1p1npppp/p2p4/2p5/4P3/3B1N2/PPPP1PPP/...  ...   \n",
       "4  r1bqk1nr/pppp1ppp/2n5/2b5/4P3/1N6/PPP2PPP/RNBQ...  ...   \n",
       "\n",
       "                          115                        116  \\\n",
       "0   8/1q5k/6Q1/5P1K/6PP/8/8/8  7k/1q6/6Q1/5P1K/6PP/8/8/8   \n",
       "1  8/p2P2Bk/8/1p6/8/8/6RK/4q3  8/p2Pq1Bk/8/1p6/8/8/6RK/8   \n",
       "2                        None                       None   \n",
       "3                        None                       None   \n",
       "4                        None                       None   \n",
       "\n",
       "                          117                         118  \\\n",
       "0    7k/1q6/7Q/5P1K/6PP/8/8/8   6k1/1q6/7Q/5P1K/6PP/8/8/8   \n",
       "1  8/p2Pq1Bk/8/1p6/8/8/3R3K/8  8/p2P2Bk/8/1p6/7q/8/3R3K/8   \n",
       "2                        None                        None   \n",
       "3                        None                        None   \n",
       "4                        None                        None   \n",
       "\n",
       "                           119                        120  \\\n",
       "0   6k1/1q6/4Q3/5P1K/6PP/8/8/8  7k/1q6/4Q3/5P1K/6PP/8/8/8   \n",
       "1  8/p2P2Bk/8/1p6/7q/8/3R4/6K1                       None   \n",
       "2                         None                       None   \n",
       "3                         None                       None   \n",
       "4                         None                       None   \n",
       "\n",
       "                        121                       122  \\\n",
       "0  7k/1q6/4Q3/5PPK/7P/8/8/8  7k/5q2/4Q3/5PPK/7P/8/8/8   \n",
       "1                      None                      None   \n",
       "2                      None                      None   \n",
       "3                      None                      None   \n",
       "4                      None                      None   \n",
       "\n",
       "                          123                         124  \n",
       "0  7k/5q2/4Q1P1/5P1K/7P/8/8/8  5q1k/8/4Q1P1/5P1K/7P/8/8/8  \n",
       "1                        None                        None  \n",
       "2                        None                        None  \n",
       "3                        None                        None  \n",
       "4                        None                        None  \n",
       "\n",
       "[5 rows x 125 columns]"
      ]
     },
     "execution_count": 95,
     "metadata": {},
     "output_type": "execute_result"
    }
   ],
   "source": [
    "df_board_states.head()"
   ]
  },
  {
   "cell_type": "code",
   "execution_count": null,
   "metadata": {},
   "outputs": [],
   "source": [
    "'''\n",
    "len(all_san_list)\n",
    "#xtea_df = pd.DataFrame(xtea)\n",
    "all_san_list.pop(252984)\n",
    "len(all_san_list)\n",
    "'''"
   ]
  },
  {
   "cell_type": "code",
   "execution_count": null,
   "metadata": {},
   "outputs": [],
   "source": [
    "'''\n",
    "data_with_moves\n",
    "'''"
   ]
  },
  {
   "cell_type": "code",
   "execution_count": null,
   "metadata": {},
   "outputs": [],
   "source": [
    "'''\n",
    "data_with_moves[473].value_counts()\n",
    "'''"
   ]
  },
  {
   "cell_type": "code",
   "execution_count": null,
   "metadata": {},
   "outputs": [],
   "source": [
    "'''\n",
    "data_with_moves.loc[data_with_moves[473] == 'Rh2']\n",
    "'''"
   ]
  },
  {
   "cell_type": "code",
   "execution_count": null,
   "metadata": {},
   "outputs": [],
   "source": []
  },
  {
   "cell_type": "markdown",
   "metadata": {},
   "source": [
    "#### using build in pgn methods"
   ]
  },
  {
   "cell_type": "code",
   "execution_count": null,
   "metadata": {},
   "outputs": [],
   "source": [
    "import chess.pgn\n",
    "pgn_file = open(\"GMallboth.pgn\")\n",
    "first_game = chess.pgn.read_game(pgn_file)\n",
    "\n",
    "# def generate_BStates(game): \n",
    "board = chess.Board()\n",
    "game_1 = []\n",
    "white_move = []\n",
    "black_move = []\n",
    "count = 0\n",
    "\n",
    "for m in list(first_game.mainline_moves()):\n",
    "    if count % 2 == 0:\n",
    "        white_move.append(m)\n",
    "    else:\n",
    "        black_move.append(m)\n",
    "    count += 1\n",
    "\n",
    "for i in range(len(white_move)):\n",
    "    print(board.board_fen())\n",
    "    try:\n",
    "        board.push(white_move[i])\n",
    "    except:\n",
    "        continue\n",
    "    try:\n",
    "        board.push(black_move[i])\n",
    "    except:\n",
    "        board.push(chess.Move.from_uci('0000'))\n",
    "        continue\n",
    "board"
   ]
  },
  {
   "cell_type": "code",
   "execution_count": null,
   "metadata": {},
   "outputs": [],
   "source": []
  },
  {
   "cell_type": "code",
   "execution_count": null,
   "metadata": {},
   "outputs": [],
   "source": [
    "board"
   ]
  },
  {
   "cell_type": "code",
   "execution_count": null,
   "metadata": {},
   "outputs": [],
   "source": [
    "#board = chess.Board()\n",
    "#board.push_san(\"O-O-O\")\n",
    "board.board_fen()\n",
    "#board"
   ]
  },
  {
   "cell_type": "code",
   "execution_count": null,
   "metadata": {},
   "outputs": [],
   "source": [
    "board.push_san('d5')\n",
    "board"
   ]
  },
  {
   "cell_type": "code",
   "execution_count": null,
   "metadata": {},
   "outputs": [],
   "source": [
    "board.push_san('b5')\n",
    "board"
   ]
  },
  {
   "cell_type": "code",
   "execution_count": null,
   "metadata": {},
   "outputs": [],
   "source": [
    "board.legal_moves"
   ]
  },
  {
   "cell_type": "code",
   "execution_count": null,
   "metadata": {},
   "outputs": [],
   "source": [
    "pgn_text = open('GMallboth.pgn').read()"
   ]
  },
  {
   "cell_type": "code",
   "execution_count": null,
   "metadata": {},
   "outputs": [],
   "source": [
    "# pgn.loads(pgn_text)"
   ]
  },
  {
   "cell_type": "code",
   "execution_count": null,
   "metadata": {},
   "outputs": [],
   "source": [
    "import pgn\n",
    "import sys\n",
    "\n",
    "f = open(sys.argv[1])\n",
    "pgn_text = f.read()\n",
    "f.close()\n",
    "games = pgn.loads(pgn_text)\n",
    "for game in games:\n",
    "    print (game.moves)"
   ]
  },
  {
   "cell_type": "code",
   "execution_count": null,
   "metadata": {},
   "outputs": [],
   "source": [
    "import chess.pgn\n",
    "pgn_file = open(\"GMallboth.pgn\")\n",
    "first_game = chess.pgn.read_game(pgn_file)\n",
    "second_game = chess.pgn.read_game(pgn_file)\n",
    "\n",
    "\n",
    "# Iterate through all moves and play them on a board.\n",
    "board = first_game.board()\n",
    "for move in first_game.mainline_moves():\n",
    "    board.push(move)"
   ]
  },
  {
   "cell_type": "code",
   "execution_count": null,
   "metadata": {},
   "outputs": [],
   "source": [
    "import chess.pgn\n",
    "pgn_file = open(\"GMallboth.pgn\")\n",
    "first_game = chess.pgn.read_game(pgn_file)\n",
    "second_game = chess.pgn.read_game(pgn_file)\n",
    "\n",
    "#for move in first_game.board():\n",
    "#list(first_game.mainline_moves())\n",
    "#print(second_game.mainline_moves())\n",
    "list(first_game.mainline_moves()) "
   ]
  },
  {
   "cell_type": "code",
   "execution_count": null,
   "metadata": {},
   "outputs": [],
   "source": [
    "import chess.pgn\n",
    "pgn_file = open(\"GMallboth.pgn\")\n",
    "first_game = chess.pgn.read_game(pgn_file)\n",
    "#second_game = chess.pgn.read_game(pgn_file)\n",
    "\n",
    "print(f'{first_game.mainline_moves()}\\n\\n{second_game.mainline_moves()}')"
   ]
  },
  {
   "cell_type": "code",
   "execution_count": null,
   "metadata": {},
   "outputs": [],
   "source": [
    "'''\n",
    "with open(\"GMallboth.pgn\") as f:\n",
    "    line = f.readline()\n",
    "    while line:\n",
    "        print(line, end=\"\")\n",
    "        line = f.readline()\n",
    "'''"
   ]
  },
  {
   "cell_type": "code",
   "execution_count": null,
   "metadata": {},
   "outputs": [],
   "source": [
    "board = chess.Board()\n"
   ]
  },
  {
   "cell_type": "code",
   "execution_count": null,
   "metadata": {},
   "outputs": [],
   "source": [
    "['d4 e6', 'c4 d5', 'Nf3 Nf6', 'Nc3 Bb4', 'Bg5 h6', 'Bxf6 Qxf6'] #, e3 O-O 8. Rc1 dxc4 9. Bxc4 c5 10. O-O cxd4 11. Ne4 Qe7 12. exd4 Nc6 13. Qe2 Bd7 14. a3 Bd6 15. Rfd1 Rad8 16. Qe3 Rfe8 17. b4 a6 18. Be2 Nb8 19. Ne5 Ba4 20. Rd2 Bxe5 21. dxe5 Rxd2 22. Qxd2 Rd8 23. Qb2 Bc6 24. Nd6 Bd5 25. f4 Nc6 26. a4 Qc7 27. b5 Qb6+ 28. Kf1 axb5 29. axb5 Ne7 30. Qc3 Rf8 31. Qc5 Qa5 32. Rd1 Qa2 33. g3 f6 34. exf6 Rxf6 35. Qc3 Qa7 36. Ne8 Rf7 37. Bh5 g6 38. Nf6+ Rxf6 39. Qxf6 gxh5 40. Qxe7 Bc4+ 41. Kg2 Bd5+ 42. Kh3 Qa2 43. Rxd5 Qxd5 44. Kh4 Qxb5 45. Qxe6+ Kg7 46. f5 Qc6 47. Qe7+ Kg8 48. Kxh5 b5 49. g4 b4 50. Qxb4 Qc7 51. Qb3+ Kh8 52. Qe6 Qf7+ 53. Qg6 Qc7 54. Qxh6+ Kg8 55. Qe6+ Kh8 56. Qe8+ Kh7 57. h4 Qb7 58. Qg6+ Kh8 59. Qh6+ Kg8 60. Qe6+ Kh8 61. g5 Qf7+ 62. g6 Qf8 63. g7+\"\n"
   ]
  },
  {
   "cell_type": "code",
   "execution_count": null,
   "metadata": {},
   "outputs": [],
   "source": [
    "board"
   ]
  },
  {
   "cell_type": "code",
   "execution_count": null,
   "metadata": {},
   "outputs": [],
   "source": [
    "len(list(first_game.mainline_moves()))"
   ]
  },
  {
   "cell_type": "code",
   "execution_count": null,
   "metadata": {},
   "outputs": [],
   "source": [
    "len(white_move)"
   ]
  },
  {
   "cell_type": "code",
   "execution_count": null,
   "metadata": {},
   "outputs": [],
   "source": [
    "df= pd.DataFrame()"
   ]
  },
  {
   "cell_type": "code",
   "execution_count": null,
   "metadata": {},
   "outputs": [],
   "source": [
    "import chess.pgn\n",
    "pgn_file = open(\"GMallboth.pgn\")\n",
    "first_game = chess.pgn.read_game(pgn_file)\n",
    "\n",
    "# def generate_BStates(game): \n",
    "board = chess.Board()\n",
    "game_1 = []\n",
    "white_move = []\n",
    "black_move = []\n",
    "count = 0\n",
    "\n",
    "for m in list(first_game.mainline_moves()):\n",
    "    if count % 2 == 0:\n",
    "        white_move.append(m)\n",
    "    else:\n",
    "        black_move.append(m)\n",
    "    count += 1\n",
    "\n",
    "for i in range(len(white_move)):\n",
    "    print(board.board_fen())\n",
    "    board.push(white_move[i])\n",
    "    try:\n",
    "        board.push(black_move[i])\n",
    "    except:\n",
    "        board.push(chess.Move.from_uci('0000'))\n",
    "        continue\n",
    "board\n",
    "\n",
    "\n",
    "#for i in range(len(list(first_game.mainline_moves()))):\n",
    " #   board.push()\n",
    "  #  boa\n",
    "#board.push(move.from_uci('d2d4'))\n",
    "#board.push_san('Nf6')\n"
   ]
  },
  {
   "cell_type": "code",
   "execution_count": 156,
   "metadata": {},
   "outputs": [],
   "source": [
    "x = np.array([0,1,2,3,4,5,6,7,8,9,10])"
   ]
  },
  {
   "cell_type": "code",
   "execution_count": 162,
   "metadata": {},
   "outputs": [
    {
     "name": "stdout",
     "output_type": "stream",
     "text": [
      "<class 'numpy.ndarray'>\n",
      "<class 'numpy.ndarray'>\n",
      "<class 'numpy.ndarray'>\n",
      "<class 'numpy.ndarray'>\n",
      "<class 'numpy.ndarray'>\n",
      "<class 'numpy.ndarray'>\n",
      "<class 'numpy.ndarray'>\n",
      "<class 'numpy.ndarray'>\n",
      "<class 'numpy.ndarray'>\n",
      "<class 'numpy.ndarray'>\n",
      "<class 'numpy.ndarray'>\n"
     ]
    }
   ],
   "source": [
    "for i in x:\n",
    "    print(type(i + [x[i-1]]))"
   ]
  },
  {
   "cell_type": "code",
   "execution_count": null,
   "metadata": {},
   "outputs": [],
   "source": []
  }
 ],
 "metadata": {
  "kernelspec": {
   "display_name": "Python 3",
   "language": "python",
   "name": "python3"
  },
  "language_info": {
   "codemirror_mode": {
    "name": "ipython",
    "version": 3
   },
   "file_extension": ".py",
   "mimetype": "text/x-python",
   "name": "python",
   "nbconvert_exporter": "python",
   "pygments_lexer": "ipython3",
   "version": "3.7.4"
  }
 },
 "nbformat": 4,
 "nbformat_minor": 4
}
