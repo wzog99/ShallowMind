{
 "cells": [
  {
   "cell_type": "markdown",
   "metadata": {},
   "source": [
    "# ShallowMind \n",
    "## An exploratory endeavor into AI Chess\n"
   ]
  },
  {
   "cell_type": "markdown",
   "metadata": {},
   "source": [
    "#### Download libraries that could aid the process"
   ]
  },
  {
   "cell_type": "code",
   "execution_count": null,
   "metadata": {},
   "outputs": [],
   "source": [
    "#!pip install python-chess\n",
    "#!pip install pgnparser\n",
    "#!pip install pgnlib\n",
    "#!pip install ipython-autotime ### time is becoming an issue...\n",
    "#!pip install pystockfish\n",
    "#!pip install stockfish"
   ]
  },
  {
   "cell_type": "markdown",
   "metadata": {},
   "source": [
    "#### Import libraries for EDA, and processing"
   ]
  },
  {
   "cell_type": "code",
   "execution_count": 1,
   "metadata": {},
   "outputs": [],
   "source": [
    "import chess\n",
    "import pgn\n",
    "from pystockfish import *\n",
    "\n",
    "from stockfish import Stockfish\n",
    "\n",
    "import pandas as pd\n",
    "import numpy as np\n",
    "\n",
    "import itertools\n",
    "\n",
    "import sm_functions"
   ]
  },
  {
   "cell_type": "markdown",
   "metadata": {},
   "source": [
    "### Useful sources of Chess game data - \n",
    "Chess GrandMaster games: https://chess-db.com/public/downloads/gamesfordownload.jsp - 275,606 games\n",
    "\n",
    "\n",
    "#### Note parsing pgn file data returns only the first game in the file, limited documentation availble for further explorating.\n",
    "#### More processing required to access game lines and results."
   ]
  },
  {
   "cell_type": "code",
   "execution_count": null,
   "metadata": {},
   "outputs": [],
   "source": [
    "import chess.pgn\n",
    "pgn_file = open(\"pgnprepro.pgn\")\n",
    "first_game = chess.pgn.read_game(pgn_file)\n",
    "\n",
    "print(f\"{first_game.mainline_moves()}\\n\") #fancy built in method for accessing the moves\n"
   ]
  },
  {
   "cell_type": "markdown",
   "metadata": {},
   "source": [
    "#### Work-around for accesing moves and results"
   ]
  },
  {
   "cell_type": "code",
   "execution_count": null,
   "metadata": {},
   "outputs": [],
   "source": [
    "game_list = [line for line in open('GMallboth.pgn')] \n",
    "\n",
    "all_moves_list = []\n",
    "i = 11\n",
    "while i <= (len(game_list)/300):           ###### NOTE: '/100' only using 1% of the data availible from grandmasters\n",
    "    all_moves_list.append(game_list[i])\n",
    "    i += 16\n",
    "    \n",
    "    \n",
    "all_results = []\n",
    "i = 13\n",
    "while i <= (len(game_list)/300):\n",
    "    all_results.append(game_list[i])\n",
    "    i += 16\n",
    "    \n",
    "all_openings = []\n",
    "i = 7\n",
    "while i <= (len(game_list)/300):\n",
    "    all_openings.append(game_list[i])\n",
    "    i += 16"
   ]
  },
  {
   "cell_type": "code",
   "execution_count": null,
   "metadata": {},
   "outputs": [],
   "source": [
    "(all_moves_list[0]), (all_results[0]), (all_openings[0])"
   ]
  },
  {
   "cell_type": "markdown",
   "metadata": {},
   "source": [
    "#### Function that cleans up the move string string"
   ]
  },
  {
   "cell_type": "code",
   "execution_count": null,
   "metadata": {},
   "outputs": [],
   "source": [
    "def get_move_list(move_string): #### input is a string \n",
    "    '''\n",
    "    Takes a move string that was striped from a PGN format, and removes unwanted characters and conserves SAN format.\n",
    "    \n",
    "    Input: String of plain text moves in string format\n",
    "    Output: List of SAN moves\n",
    "    \n",
    "    '''\n",
    "    testing = move_string \n",
    "    testing = testing[0:-2]  ### remove last 2 characters == '\\n'\n",
    "    testing = testing.split('. ')\n",
    "    \n",
    "    for i in range(len(testing)):\n",
    "        testing[i] = testing[i].split(' ')\n",
    "    for i in testing:\n",
    "        try:\n",
    "            del(i[2])\n",
    "        except:\n",
    "            continue\n",
    "    del(testing[0])\n",
    "\n",
    "    simplelist = list(itertools.chain.from_iterable(testing))\n",
    "    return(simplelist)"
   ]
  },
  {
   "cell_type": "code",
   "execution_count": null,
   "metadata": {},
   "outputs": [],
   "source": [
    "def clean_fen(string):\n",
    "    '''\n",
    "    Takes a Forsyth-Edwards Notation, with extraneous features, and simplifies it to a list of piece and position on the board [r,n,b,q,k,b,n,r,p,p,p,p,p,p,p,p,1,1,1,1,1,1,1,1,1,1,1,1,1,1,1,1,1,1,1,1,1,1,1,1,1,1,1,1,1,1,1,1,P,P,P,P,P,P,P,P,R,N,B,Q,K,B,N,R]\n",
    "    \n",
    "    Input: FEN string\n",
    "    Output: 64 length list of strings, with piece position encoded\n",
    "    '''\n",
    "    string = string.replace('8','1'*8)\n",
    "    string = string.replace('7','1'*7)\n",
    "    string = string.replace('6','1'*6)\n",
    "    string = string.replace('5','1'*5)\n",
    "    string = string.replace('4','1'*4)\n",
    "    string = string.replace('3','1'*3)\n",
    "    string = string.replace('2','1'*2)\n",
    "    string = string.replace('1','1'*1)\n",
    "    string = string.replace('/','')\n",
    "    string_list = [i for i in string]\n",
    "    string_array = np.asarray(string_list)\n",
    "    return(string_array)"
   ]
  },
  {
   "cell_type": "code",
   "execution_count": null,
   "metadata": {},
   "outputs": [],
   "source": [
    "#x = [get_move_list(game) for game in ep_game]\n"
   ]
  },
  {
   "cell_type": "code",
   "execution_count": null,
   "metadata": {},
   "outputs": [],
   "source": [
    "#ep_game = ['1. d4 e6 2. c4 d5 3. Nf3 Nf6 4. Nc3 Bb4 5. Bg5 h6 6. Bxf6 Qxf6 7. e3 O-O 8. Rc1 dxc4 9. Bxc4 c5 10. O-O cxd4 11. Ne4 Qe7 12. exd4 Nc6 13. Qe2 Bd7 14. a3 Bd6 15. Rfd1 Rad8 16. Qe3 Rfe8 17. b4 a6 18. Be2 Nb8 19. Ne5 Ba4 20. Rd2 Bxe5 21. dxe5 Rxd2 22. Qxd2 Rd8 23. Qb2 Bc6 24. Nd6 Bd5 25. f4 Nc6 26. a4 Qc7 27. b5 Qb6+ 28. Kf1 axb5 29. axb5 Ne7 30. Qc3 Rf8 31. Qc5 Qa5 32. Rd1 Qa2 33. g3 f6 34. exf6 Rxf6 35. Qc3 Qa7 36. Ne8 Rf7 37. Bh5 g6 38. Nf6+ Rxf6 39. Qxf6 gxh5 40. Qxe7 Bc4+ 41. Kg2 Bd5+ 42. Kh3 Qa2 43. Rxd5 Qxd5 44. Kh4 Qxb5 45. Qxe6+ Kg7 46. f5 Qc6 47. Qe7+ Kg8 48. Kxh5 b5 49. g4 b4 50. Qxb4 Qc7 51. Qb3+ Kh8 52. Qe6 Qf7+ 53. Qg6 Qc7 54. Qxh6+ Kg8 55. Qe6+ Kh8 56. Qe8+ Kh7 57. h4 Qb7 58. Qg6+ Kh8 59. Qh6+ Kg8 60. Qe6+ Kh8 61. g5 Qf7+ 62. g6 Qf8 63. g7+ ', '1. e4 c5 2. Nf3 Nc6 3. d4 cxd4 4. Nxd4 Nf6 5. Nc3 e5 6. Ndb5 d6 7. Bg5 a6 8. Na3 b5 9. Bxf6 gxf6 10. Nd5 f5 11. c3 Bg7 12. Bd3 Be6 13. Qh5 O-O 14. O-O f4 15. g4 Rb8 16. Nc2 Qd7 17. f3 a5 18. Na3 b4 19. Nb5 bxc3 20. bxc3 Ne7 21. a4 Rfc8 22. Rad1 Rc5 23. c4 Re8 24. Kh1 Ng6 25. Rfe1 Rb8 26. Bf1 Bxd5 27. exd5 Qe7 28. g5 Rbc8 29. Re4 f5 30. gxf6ep Qxf6 31. Bh3 Rd8 32. Be6+ Kh8 33. Bf5 Nf8 34. Rg1 Qh6 35. Qxh6 Bxh6 36. Re2 Rxc4 37. Reg2 Ng6 38. Bxg6 hxg6 39. Rxg6 Bf8 40. R6g5 Kh7 41. Rh5+ Bh6 42. Rg4 Rc5 43. Kg2 Rxd5 44. Nc3 Rd2+ 45. Kh3 d5 46. Rxe5 Rd3 47. Re7+ Kh8 48. Re6 Bg7 49. Ne2 Rxf3+ 50. Kg2 Re3 51. Nxf4 d4 52. Rxg7 Rxe6 53. Nxe6 Rd6 54. Rg6 d3 55. Nf4 Rd4 56. Nxd3 Rxd3 57. Rg5 Rd2+ 58. Kg3 Rd3+ 59. Kh4 Rd4+ 60. Rg4 Rb4 61. Kg5 Rb2 62. h4 Kg7 63. Kh5+ Kf6 64. Rg5 Rb8 65. Rxa5 Rh8+ 66. Kg4 Rc8 67. Rf5+ Kg6 68. a5 Rc1 69. h5+ Kg7 70. Kf4 Ra1 71. Rb5 Kh6 72. Ke4 Rd1 73. a6 Ra1 74. Rb6+ Kxh5 75. Kd5 Rc1 76. Rc6 Ra1 77. Kc5 Kg4 78. Kb6 Rb1+ 79. Kc7 Kf5 80. a7 Rb4 81. Re6 Rb1 82. Re2 Kg6'] \n"
   ]
  },
  {
   "cell_type": "markdown",
   "metadata": {},
   "source": [
    "#### Function that clean up the results"
   ]
  },
  {
   "cell_type": "code",
   "execution_count": null,
   "metadata": {},
   "outputs": [],
   "source": [
    "def white_results(result_string_list):\n",
    "    '''\n",
    "    Reformats and standardizes stripped result info from chess game in PGN/TXT format\n",
    "    \n",
    "    Input: list of strings - (results text with \\n)\n",
    "    Output: win, lose, draw in list format\n",
    "    \n",
    "    '''\n",
    "    white_result_list = []\n",
    "    for i in range(len(result_string_list)):\n",
    "            result = result_string_list[i][:-1]\n",
    "            result = result.replace('1-0', 'win')\n",
    "            result = result.replace('0-1', 'lose')\n",
    "            result = result.replace('1/2-1/2', 'draw')\n",
    "            white_result_list.append(result)\n",
    "    return(white_result_list)"
   ]
  },
  {
   "cell_type": "code",
   "execution_count": null,
   "metadata": {},
   "outputs": [],
   "source": [
    "%%time\n",
    "white_test = white_results(all_results)"
   ]
  },
  {
   "cell_type": "markdown",
   "metadata": {},
   "source": [
    "#### Converts string of all the game moves into lists of moves in standard algebraic notation (san) "
   ]
  },
  {
   "cell_type": "code",
   "execution_count": null,
   "metadata": {},
   "outputs": [],
   "source": [
    "%%time\n",
    "all_san_list = [get_move_list(game) for game in all_moves_list]\n",
    "all_san_list[0][0:10]"
   ]
  },
  {
   "cell_type": "markdown",
   "metadata": {},
   "source": [
    "#### Move games from results pool to sub-pool (win, lose, or draw)"
   ]
  },
  {
   "cell_type": "code",
   "execution_count": null,
   "metadata": {},
   "outputs": [],
   "source": [
    "white_win = []\n",
    "white_lose = []\n",
    "white_draw = []\n",
    "\n",
    "for i in range(len(white_test)):\n",
    "    if white_test[i] == 'win':\n",
    "        white_win.append(all_san_list[i])\n",
    "    elif white_test[i] == 'lose':\n",
    "        white_lose.append(all_san_list[i])\n",
    "    else:\n",
    "        white_draw.append(all_san_list[i])\n",
    "print(len(white_win), len(white_lose), len(white_draw))"
   ]
  },
  {
   "cell_type": "code",
   "execution_count": null,
   "metadata": {},
   "outputs": [],
   "source": [
    "def clean_fen(string):\n",
    "    '''\n",
    "    Takes a fen with extraneous features  \n",
    "    '''\n",
    "    string = string.replace('8','1'*8)\n",
    "    string = string.replace('7','1'*7)\n",
    "    string = string.replace('6','1'*6)\n",
    "    string = string.replace('5','1'*5)\n",
    "    string = string.replace('4','1'*4)\n",
    "    string = string.replace('3','1'*3)\n",
    "    string = string.replace('2','1'*2)\n",
    "    string = string.replace('1','1'*1)\n",
    "    string = string.replace('/','')\n",
    "    string_list = [i for i in string]\n",
    "    string_array = np.asarray(string_list) ############## Change in VM Instance\n",
    "    return(string_array)"
   ]
  },
  {
   "cell_type": "code",
   "execution_count": null,
   "metadata": {},
   "outputs": [],
   "source": [
    "def get_bitwise(board_state):\n",
    "    bs = board_state #test ---- #First posiiton tuple  #winning_position[0][0] - for i in range:\n",
    "    r_ray = np.zeros(64)\n",
    "    n_ray = np.zeros(64)\n",
    "    b_ray = np.zeros(64)\n",
    "    q_ray = np.zeros(64)\n",
    "    k_ray = np.zeros(64)\n",
    "    p_ray = np.zeros(64)\n",
    "    for i in range(64):\n",
    "        if bs[i] == 'r':\n",
    "            r_ray[i] = -1\n",
    "        if bs[i] == 'R':\n",
    "            r_ray[i] = 1 \n",
    "        \n",
    "        if bs[i] == 'b':\n",
    "            b_ray[i] = -1\n",
    "        if bs[i] == 'B':\n",
    "            b_ray[i] = 1\n",
    "        \n",
    "        if bs[i] == 'n':\n",
    "            n_ray[i] = -1\n",
    "        if bs[i] == 'N':\n",
    "            n_ray[i] = 1 \n",
    "    \n",
    "        if bs[i] == 'q':\n",
    "            q_ray[i] = -1\n",
    "        if bs[i] == 'Q':\n",
    "            q_ray[i] = 1\n",
    "    \n",
    "        if bs[i] == 'k':\n",
    "            k_ray[i] = -1\n",
    "        if bs[i] == 'K':\n",
    "            k_ray[i] = 1 \n",
    "        \n",
    "        if bs[i] == 'p':\n",
    "            p_ray[i] = -1\n",
    "        if bs[i] == 'P':\n",
    "            p_ray[i] = 1 \n",
    "    master_ray = np.array((r_ray, n_ray, b_ray, q_ray, k_ray, p_ray))\n",
    "    return(master_ray)"
   ]
  },
  {
   "cell_type": "code",
   "execution_count": null,
   "metadata": {},
   "outputs": [],
   "source": [
    "def get_white_win_bs(game): ### i from white_win \n",
    "    '''\n",
    "    Input: \n",
    "    '''\n",
    "    board = chess.Board()\n",
    "\n",
    "    board_state = None\n",
    "    game_board_states = []\n",
    "\n",
    "\n",
    "    for i in range(len(game)):\n",
    "        bs = board.board_fen() ### creates current board state, in FEN \"rnbqkbnr/pppppppp....\n",
    "        board_state = np.array(clean_fen(bs)) ### return\n",
    "        game_board_states.append(board_state)\n",
    "        board.push_san(game[i])\n",
    "        \n",
    "    white_wins = []\n",
    "    i = 0\n",
    "    while i < len(game_board_states):\n",
    "        try:\n",
    "            white_wins.append((get_bitwise(game_board_states[i]).astype(int), get_bitwise(game_board_states[i + 1]).astype(int)))\n",
    "            i += 2\n",
    "        except:\n",
    "            break\n",
    "    return(white_wins)"
   ]
  },
  {
   "cell_type": "code",
   "execution_count": null,
   "metadata": {},
   "outputs": [],
   "source": [
    "%%time\n",
    "white_win_bs = []\n",
    "for i in range(len(white_win)):\n",
    "    white_win_bs.extend(get_white_win_bs(white_win[i]))\n",
    "white_win_bs[0][0]"
   ]
  },
  {
   "cell_type": "code",
   "execution_count": null,
   "metadata": {},
   "outputs": [],
   "source": [
    "white_win_bs[0][0][0].astype('int8')"
   ]
  },
  {
   "cell_type": "code",
   "execution_count": null,
   "metadata": {},
   "outputs": [],
   "source": [
    "def get_white_lose_bs(game): \n",
    "\n",
    "    board = chess.Board()\n",
    "\n",
    "    board_state = None\n",
    "    game_board_states = []\n",
    "\n",
    "    for i in range(len(game)):\n",
    "        bs = board.board_fen() ### creates current board state, in FEN \"rnbqkbnr/pppppppp....\n",
    "        board_state = np.array(clean_fen(bs)) ### return\n",
    "        game_board_states.append(board_state)\n",
    "        board.push_san(game[i])\n",
    "    \n",
    "\n",
    "    white_losses = []\n",
    "    i = 1\n",
    "    while i < len(game_board_states):\n",
    "        try:\n",
    "            white_losses.append((get_bitwise(game_board_states[i]).astype(int), get_bitwise(game_board_states[i + 1]).astype(int)))\n",
    "            i += 2\n",
    "        except:\n",
    "            break\n",
    "    return(white_losses)"
   ]
  },
  {
   "cell_type": "code",
   "execution_count": null,
   "metadata": {},
   "outputs": [],
   "source": [
    "%%time\n",
    "white_lose_bs = []\n",
    "for i in range(len(white_lose)):\n",
    "    white_lose_bs.extend(get_white_lose_bs(white_lose[i]))"
   ]
  },
  {
   "cell_type": "code",
   "execution_count": null,
   "metadata": {},
   "outputs": [],
   "source": [
    "winning_position = white_lose_bs + white_win_bs"
   ]
  },
  {
   "cell_type": "code",
   "execution_count": null,
   "metadata": {},
   "outputs": [],
   "source": [
    "winning_position[0]"
   ]
  },
  {
   "cell_type": "code",
   "execution_count": null,
   "metadata": {},
   "outputs": [],
   "source": [
    "x = np.empty(64)"
   ]
  },
  {
   "cell_type": "code",
   "execution_count": null,
   "metadata": {},
   "outputs": [],
   "source": [
    "winning_position_df = pd.DataFrame(winning_position)\n",
    "winning_position_df[0][0]"
   ]
  },
  {
   "cell_type": "code",
   "execution_count": null,
   "metadata": {},
   "outputs": [],
   "source": [
    "winning_position_df.info()"
   ]
  },
  {
   "cell_type": "code",
   "execution_count": null,
   "metadata": {},
   "outputs": [],
   "source": [
    "def get_draw_bs(game): \n",
    "    \n",
    "    board = chess.Board()\n",
    "\n",
    "    board_state = None\n",
    "    game_board_states = []\n",
    "\n",
    "    for i in range(len(game)):\n",
    "        bs = board.board_fen() ### creates current board state, in FEN \"rnbqkbnr/pppppppp....\n",
    "        arr = np.array(clean_fen(bs))\n",
    "        game_board_states.append(arr)  \n",
    "        board.push_san(game[i])\n",
    "    \n",
    "    draws = []     \n",
    "    for i in range(len(game_board_states)):\n",
    "        try:\n",
    "            draws.append((game_board_states[i], game_board_states[i+1]))\n",
    "        except:\n",
    "            break\n",
    "    return(draws)"
   ]
  },
  {
   "cell_type": "code",
   "execution_count": null,
   "metadata": {},
   "outputs": [],
   "source": [
    "draw_list = []\n",
    "for i in range(len(white_draw)):\n",
    "    draw_list.extend(get_draw_bs(white_draw[i]))"
   ]
  },
  {
   "cell_type": "code",
   "execution_count": null,
   "metadata": {},
   "outputs": [],
   "source": [
    "white_draw_df = pd.DataFrame(draw_list, columns = ['before', 'after']) ######### Should \n",
    "white_draw_df.head()"
   ]
  },
  {
   "cell_type": "markdown",
   "metadata": {},
   "source": [
    "#### Now that we have the moves in san, lets generate the board states in a (1x64) array \n",
    "#### Creating a function that cleans up FEN notation"
   ]
  },
  {
   "cell_type": "markdown",
   "metadata": {},
   "source": [
    "#### Creating function that converts moves to board states as Forsyth Enumerated Notation (FEN) "
   ]
  },
  {
   "cell_type": "code",
   "execution_count": null,
   "metadata": {},
   "outputs": [],
   "source": [
    "'''\n",
    "def get_fen_state(move_list): ### i from all move_list \n",
    "    game = move_list\n",
    "    board = chess.Board()\n",
    "\n",
    "    fen_states = []\n",
    "    for move in game:\n",
    "        try:\n",
    "            bs = board.board_fen()\n",
    "            fen_states.append(clean_fen(bs))\n",
    "            board.push_san(move)\n",
    "        except:\n",
    "            continue\n",
    "    return(fen_states)\n",
    "'''"
   ]
  },
  {
   "cell_type": "markdown",
   "metadata": {},
   "source": [
    "#### Alternative format for fen... just in case"
   ]
  },
  {
   "cell_type": "code",
   "execution_count": null,
   "metadata": {},
   "outputs": [],
   "source": [
    "def get_board_state_string(move_list): \n",
    "    game = move_list\n",
    "    board = chess.Board()\n",
    "\n",
    "    board_states = []\n",
    "    for move in game:\n",
    "        try:\n",
    "            board_states.append(board.board_fen())\n",
    "            board.push_san(move)\n",
    "        except:\n",
    "            continue\n",
    "    return(board_states)"
   ]
  },
  {
   "cell_type": "markdown",
   "metadata": {},
   "source": [
    "### Format for Array"
   ]
  },
  {
   "cell_type": "code",
   "execution_count": null,
   "metadata": {},
   "outputs": [],
   "source": [
    "def get_board_state_array(move_list): ### i from all move_list \n",
    "    game = move_list\n",
    "    board = chess.Board()\n",
    "    #game = all_san_list[0]   \n",
    "\n",
    "\n",
    "    board_state_list = []\n",
    "\n",
    "    for move in game:\n",
    "        try:\n",
    "            bs = board.board_fen() ### creates current board state, in FEN \"rnbqkbnr/pppppppp....\n",
    "            board_array = np.array(clean_fen(bs)) ### return\n",
    "            board_state_list.append(board_array)\n",
    "            board.push_san(move)\n",
    "        except:\n",
    "            board_state_list.append(0)\n",
    "            break\n",
    "    return(board_state_list)"
   ]
  },
  {
   "cell_type": "markdown",
   "metadata": {},
   "source": [
    "#### En Passante cleaner"
   ]
  },
  {
   "cell_type": "code",
   "execution_count": null,
   "metadata": {},
   "outputs": [],
   "source": [
    "'''\n",
    "BS = []\n",
    "x = [get_move_list(game) for game in ep_game]\n",
    "\n",
    "for y in x:\n",
    "    z = get_board_state_array(y)\n",
    "    if z[-1] != 0:\n",
    "        BS.append(z)\n",
    "BS\n",
    "'''"
   ]
  },
  {
   "cell_type": "markdown",
   "metadata": {},
   "source": [
    "# Testing Ground / Python-chess pla"
   ]
  },
  {
   "cell_type": "code",
   "execution_count": null,
   "metadata": {},
   "outputs": [],
   "source": [
    "winning_position[0][0]"
   ]
  },
  {
   "cell_type": "markdown",
   "metadata": {},
   "source": [
    "# Bitwise -> FEN"
   ]
  },
  {
   "cell_type": "code",
   "execution_count": null,
   "metadata": {},
   "outputs": [],
   "source": [
    "game = winning_position[0][0]\n",
    "game = game.tolist()"
   ]
  },
  {
   "cell_type": "code",
   "execution_count": null,
   "metadata": {},
   "outputs": [],
   "source": [
    "#game"
   ]
  },
  {
   "cell_type": "code",
   "execution_count": null,
   "metadata": {},
   "outputs": [],
   "source": [
    "game # range(j, 6)\n",
    "fena = np.zeros(64, dtype=int) #((r_ray, n_ray, b_ray, q_ray, k_ray, p_ray))\n",
    "for j in range(6):    \n",
    "    for i in range(64):\n",
    "        if j == 0:\n",
    "            fena[i] = game[j][i]\n",
    "        if j == 1:\n",
    "            fena[i] += game[j][i] * (j+1)\n",
    "        if j == 2:\n",
    "            fena[i] += game[j][i] * (j+1)\n",
    "        if j == 3:\n",
    "            fena[i] += game[j][i] * (j+1)\n",
    "        if j == 4:\n",
    "            fena[i] += game[j][i] * (j+1)\n",
    "        if j == 5:\n",
    "            fena[i] += game[j][i] * (j+1)\n",
    "        \n",
    "fena = fena.astype(str)\n",
    "\n",
    "fena = np.char.replace(fena, '1', 'R')\n",
    "fena = np.char.replace(fena, '-R', 'r')\n",
    "\n",
    "fena = np.char.replace(fena, '2', 'N')\n",
    "fena = np.char.replace(fena, '-N', 'n')\n",
    "\n",
    "fena = np.char.replace(fena, '3', 'B')\n",
    "fena = np.char.replace(fena, '-B', 'b')\n",
    "\n",
    "fena = np.char.replace(fena, '4', 'Q')\n",
    "fena = np.char.replace(fena, '-Q', 'q')\n",
    "\n",
    "fena = np.char.replace(fena, '5', 'K')\n",
    "fena = np.char.replace(fena, '-K', 'k')\n",
    "\n",
    "fena = np.char.replace(fena, '6', 'P')\n",
    "fena = np.char.replace(fena, '-P', 'p')\n",
    "\n",
    "fena = np.char.replace(fena, '0', '1') # Seems wierd, but i need to add up the open spaces some how....\n",
    "\n",
    "fene = list(itertools.chain.from_iterable(fena))\n",
    "\n",
    "# Need to break chain at 8 characters\n",
    "fene.insert(8 , '/') \n",
    "fene.insert(17, '/')\n",
    "fene.insert(26, '/')\n",
    "fene.insert(35, '/')\n",
    "fene.insert(44, '/')\n",
    "fene.insert(53, '/')\n",
    "fene.insert(62, '/')\n",
    "\n",
    "\n",
    "# Replacing consecutive empty spaces with the sum\n",
    "fene = ''.join(fene)\n",
    "fene = fene.replace('1' * 8, '8')\n",
    "fene = fene.replace('1' * 7, '7')\n",
    "fene = fene.replace('1' * 6, '6')\n",
    "fene = fene.replace('1' * 5, '5')\n",
    "fene = fene.replace('1' * 4, '4')\n",
    "fene = fene.replace('1' * 3, '3')\n",
    "fene = fene.replace('1' * 2, '2')\n",
    "fene = fene.replace('1' * 1, '1')\n",
    "fene # Works...."
   ]
  },
  {
   "cell_type": "code",
   "execution_count": null,
   "metadata": {},
   "outputs": [],
   "source": [
    "\n"
   ]
  },
  {
   "cell_type": "code",
   "execution_count": null,
   "metadata": {},
   "outputs": [],
   "source": [
    "'''\n",
    "len(all_san_list)\n",
    "#xtea_df = pd.DataFrame(xtea)\n",
    "all_san_list.pop(252984)\n",
    "len(all_san_list)\n",
    "'''"
   ]
  },
  {
   "cell_type": "code",
   "execution_count": null,
   "metadata": {},
   "outputs": [],
   "source": [
    "'''\n",
    "data_with_moves\n",
    "'''"
   ]
  },
  {
   "cell_type": "code",
   "execution_count": null,
   "metadata": {},
   "outputs": [],
   "source": [
    "'''\n",
    "data_with_moves[473].value_counts()\n",
    "'''"
   ]
  },
  {
   "cell_type": "code",
   "execution_count": null,
   "metadata": {},
   "outputs": [],
   "source": [
    "'''\n",
    "data_with_moves.loc[data_with_moves[473] == 'Rh2']\n",
    "'''"
   ]
  },
  {
   "cell_type": "code",
   "execution_count": null,
   "metadata": {},
   "outputs": [],
   "source": []
  },
  {
   "cell_type": "markdown",
   "metadata": {},
   "source": [
    "#### using build in pgn methods"
   ]
  },
  {
   "cell_type": "code",
   "execution_count": null,
   "metadata": {},
   "outputs": [],
   "source": [
    "\n",
    "import chess.pgn\n",
    "pgn_file = open(\"GMallboth.pgn\")\n",
    "first_game = chess.pgn.read_game(pgn_file)\n",
    "'''\n",
    "# def generate_BStates(game): \n",
    "board = chess.Board()\n",
    "game_1 = []\n",
    "white_move = []\n",
    "black_move = []\n",
    "count = 0\n",
    "\n",
    "for m in list(first_game.mainline_moves()):\n",
    "    if count % 2 == 0:\n",
    "        white_move.append(m)\n",
    "    else:\n",
    "        black_move.append(m)\n",
    "    count += 1\n",
    "\n",
    "for i in range(len(white_move)):\n",
    "    print(board.board_fen())\n",
    "    try:\n",
    "        board.push(white_move[i])\n",
    "    except:\n",
    "        continue\n",
    "    try:\n",
    "        board.push(black_move[i])\n",
    "    except:\n",
    "        board.push(chess.Move.from_uci('0000'))\n",
    "        continue\n",
    "        '''\n",
    "node = first_game\n",
    "\n"
   ]
  },
  {
   "cell_type": "code",
   "execution_count": null,
   "metadata": {},
   "outputs": [],
   "source": [
    "GM_board = chess.Board()"
   ]
  },
  {
   "cell_type": "code",
   "execution_count": null,
   "metadata": {},
   "outputs": [],
   "source": [
    "# GM_Board ="
   ]
  },
  {
   "cell_type": "code",
   "execution_count": null,
   "metadata": {},
   "outputs": [],
   "source": [
    "next_node = node.variation(0)\n",
    "GM_move = str(node.board().san(next_node.move))\n",
    "GM_board.push_san(GM_move)\n",
    "print(type(GM_board))"
   ]
  },
  {
   "cell_type": "code",
   "execution_count": null,
   "metadata": {},
   "outputs": [],
   "source": [
    "'''\n",
    "with open(\"GMallboth.pgn\") as f:\n",
    "    line = f.readline()\n",
    "    while line:\n",
    "        print(line, end=\"\")\n",
    "        line = f.readline()\n",
    "'''"
   ]
  },
  {
   "cell_type": "code",
   "execution_count": null,
   "metadata": {},
   "outputs": [],
   "source": [
    "board = chess.Board()\n"
   ]
  },
  {
   "cell_type": "code",
   "execution_count": null,
   "metadata": {},
   "outputs": [],
   "source": [
    "['d4 e6', 'c4 d5', 'Nf3 Nf6', 'Nc3 Bb4', 'Bg5 h6', 'Bxf6 Qxf6'] #, e3 O-O 8. Rc1 dxc4 9. Bxc4 c5 10. O-O cxd4 11. Ne4 Qe7 12. exd4 Nc6 13. Qe2 Bd7 14. a3 Bd6 15. Rfd1 Rad8 16. Qe3 Rfe8 17. b4 a6 18. Be2 Nb8 19. Ne5 Ba4 20. Rd2 Bxe5 21. dxe5 Rxd2 22. Qxd2 Rd8 23. Qb2 Bc6 24. Nd6 Bd5 25. f4 Nc6 26. a4 Qc7 27. b5 Qb6+ 28. Kf1 axb5 29. axb5 Ne7 30. Qc3 Rf8 31. Qc5 Qa5 32. Rd1 Qa2 33. g3 f6 34. exf6 Rxf6 35. Qc3 Qa7 36. Ne8 Rf7 37. Bh5 g6 38. Nf6+ Rxf6 39. Qxf6 gxh5 40. Qxe7 Bc4+ 41. Kg2 Bd5+ 42. Kh3 Qa2 43. Rxd5 Qxd5 44. Kh4 Qxb5 45. Qxe6+ Kg7 46. f5 Qc6 47. Qe7+ Kg8 48. Kxh5 b5 49. g4 b4 50. Qxb4 Qc7 51. Qb3+ Kh8 52. Qe6 Qf7+ 53. Qg6 Qc7 54. Qxh6+ Kg8 55. Qe6+ Kh8 56. Qe8+ Kh7 57. h4 Qb7 58. Qg6+ Kh8 59. Qh6+ Kg8 60. Qe6+ Kh8 61. g5 Qf7+ 62. g6 Qf8 63. g7+\"\n"
   ]
  },
  {
   "cell_type": "code",
   "execution_count": null,
   "metadata": {},
   "outputs": [],
   "source": [
    "board.push_san('d4')"
   ]
  },
  {
   "cell_type": "code",
   "execution_count": null,
   "metadata": {},
   "outputs": [],
   "source": [
    "board.board_fen()"
   ]
  },
  {
   "cell_type": "code",
   "execution_count": null,
   "metadata": {},
   "outputs": [],
   "source": [
    "board= 'rnbqkbnr/pppppppp/8/8/3P4/8/PPP1PPPP/RNBQKBNR'"
   ]
  },
  {
   "cell_type": "code",
   "execution_count": null,
   "metadata": {},
   "outputs": [],
   "source": [
    "board.set_board_fen('rnbqkbnr/pppppppp/8/8/3P4/8/PPP1PPPP/RNBQKBNR')"
   ]
  },
  {
   "cell_type": "code",
   "execution_count": null,
   "metadata": {},
   "outputs": [],
   "source": [
    "board"
   ]
  },
  {
   "cell_type": "code",
   "execution_count": null,
   "metadata": {},
   "outputs": [],
   "source": [
    "len(list(first_game.mainline_moves()))"
   ]
  },
  {
   "cell_type": "code",
   "execution_count": null,
   "metadata": {},
   "outputs": [],
   "source": [
    "len(white_move)"
   ]
  },
  {
   "cell_type": "code",
   "execution_count": null,
   "metadata": {},
   "outputs": [],
   "source": [
    "df= pd.DataFrame()"
   ]
  },
  {
   "cell_type": "code",
   "execution_count": null,
   "metadata": {},
   "outputs": [],
   "source": [
    "import chess.pgn\n",
    "pgn_file = open(\"GMallboth.pgn\")\n",
    "first_game = chess.pgn.read_game(pgn_file)\n",
    "\n",
    "# def generate_BStates(game): \n",
    "board = chess.Board()\n",
    "game_1 = []\n",
    "white_move = []\n",
    "black_move = []\n",
    "count = 0\n",
    "\n",
    "for m in list(first_game.mainline_moves()):\n",
    "    if count % 2 == 0:\n",
    "        white_move.append(m)\n",
    "    else:\n",
    "        black_move.append(m)\n",
    "    count += 1\n",
    "\n",
    "for i in range(len(white_move)):\n",
    "    print(board.board_fen())\n",
    "    board.push(white_move[i])\n",
    "    try:\n",
    "        board.push(black_move[i])\n",
    "    except:\n",
    "        board.push(chess.Move.from_uci('0000'))\n",
    "        continue\n",
    "board\n",
    "\n",
    "\n",
    "#for i in range(len(list(first_game.mainline_moves()))):\n",
    " #   board.push()\n",
    "  #  boa\n",
    "#board.push(move.from_uci('d2d4'))\n",
    "#board.push_san('Nf6')\n"
   ]
  },
  {
   "cell_type": "markdown",
   "metadata": {},
   "source": [
    "# Testing pickle"
   ]
  },
  {
   "cell_type": "code",
   "execution_count": null,
   "metadata": {},
   "outputs": [],
   "source": [
    "import pickle \n",
    "#with open('array_data.p', 'wb') as write_file:\n",
    " #   pickle.dump(all_board_state_list, write_file)"
   ]
  },
  {
   "cell_type": "code",
   "execution_count": null,
   "metadata": {},
   "outputs": [],
   "source": [
    "with open('', 'rb') as read_file:\n",
    "    data = pickle.load(read_file)"
   ]
  },
  {
   "cell_type": "code",
   "execution_count": null,
   "metadata": {},
   "outputs": [],
   "source": [
    "data"
   ]
  },
  {
   "cell_type": "code",
   "execution_count": null,
   "metadata": {},
   "outputs": [],
   "source": [
    "test_df = pd.DataFrame(all_board_state_list)"
   ]
  },
  {
   "cell_type": "markdown",
   "metadata": {},
   "source": [
    "# Testing DEEP Learning"
   ]
  },
  {
   "cell_type": "code",
   "execution_count": null,
   "metadata": {},
   "outputs": [],
   "source": [
    "import keras\n",
    "from matplotlib import pyplot as plt\n",
    "from keras.utils import np_utils\n",
    "from sklearn.model_selection import cross_val_score\n",
    "from sklearn import preprocessing\n",
    "from sklearn.preprocessing import LabelEncoder\n",
    "from keras.optimizers import SGD\n",
    "from keras.optimizers import Adam\n",
    "from keras.models import Sequential\n",
    "from keras.layers import Dropout\n",
    "from keras.layers import Dense\n",
    "from sklearn.model_selection import cross_val_score\n",
    "from keras.regularizers import l2\n",
    "from sklearn.model_selection import train_test_split"
   ]
  },
  {
   "cell_type": "code",
   "execution_count": null,
   "metadata": {},
   "outputs": [],
   "source": [
    "#sgd = SGD(lr=0.001, decay=1e-15, momentum=0.7, nesterov=True)\n",
    "\n",
    "dim_input = X.shape[1]\n",
    "\n",
    "\n",
    "#sgd = SGD(lr=0.001, decay=1e-15, momentum=0.7, nesterov=False)\n",
    "\n",
    "model = Sequential()\n",
    "act = keras.layers.advanced_activations.LeakyReLU(alpha=0.01) \n",
    "model.add(Dense(768, input_dim= dim_input, init='normal', activation='relu'))\n",
    "model.add(Dense(1024, init='normal', activation='elu'))\n",
    "model.add(Dense(64, init='normal', activation='elu'))\n",
    "model.add(Dense(1, init='normal', activation= 'linear'))\n",
    "model.compile(loss='categorical_crossentropy', optimizer=\"Adam\", metrics=['accuracy'])"
   ]
  },
  {
   "cell_type": "code",
   "execution_count": null,
   "metadata": {},
   "outputs": [],
   "source": [
    "board = chess.Board()"
   ]
  },
  {
   "cell_type": "code",
   "execution_count": null,
   "metadata": {},
   "outputs": [],
   "source": [
    "board"
   ]
  },
  {
   "cell_type": "code",
   "execution_count": null,
   "metadata": {},
   "outputs": [],
   "source": [
    "list(board.generate_legal_moves())"
   ]
  },
  {
   "cell_type": "code",
   "execution_count": null,
   "metadata": {},
   "outputs": [],
   "source": [
    "chess.Move.from_uci()"
   ]
  },
  {
   "cell_type": "code",
   "execution_count": null,
   "metadata": {},
   "outputs": [],
   "source": [
    "board = chess.Board()"
   ]
  },
  {
   "cell_type": "code",
   "execution_count": null,
   "metadata": {},
   "outputs": [],
   "source": [
    "for i in board.generate_legal_moves():\n",
    "    board.push(chess.Move.from_uci(i))\n",
    "    print(board)\n",
    "    board = chess.Board()"
   ]
  },
  {
   "cell_type": "code",
   "execution_count": null,
   "metadata": {},
   "outputs": [],
   "source": [
    "from stockfish import Stockfish\n",
    "#pip install stockfish"
   ]
  },
  {
   "cell_type": "code",
   "execution_count": null,
   "metadata": {},
   "outputs": [],
   "source": [
    "chess.Board()"
   ]
  },
  {
   "cell_type": "code",
   "execution_count": null,
   "metadata": {},
   "outputs": [],
   "source": [
    "movie = []\n",
    "for i in list(board.generate_legal_moves()):\n",
    "    movie.append(str(i))\n",
    "movie"
   ]
  },
  {
   "cell_type": "code",
   "execution_count": null,
   "metadata": {},
   "outputs": [],
   "source": []
  },
  {
   "cell_type": "code",
   "execution_count": null,
   "metadata": {},
   "outputs": [],
   "source": [
    "board = chess.Board()\n",
    "for i in list(board.generate_legal_moves()):\n",
    "    board = chess.Board()\n",
    "    move = chess.Move.from_uci(str(i))\n",
    "    badi = board.push(move)\n",
    "badi\n",
    "    "
   ]
  },
  {
   "cell_type": "code",
   "execution_count": null,
   "metadata": {},
   "outputs": [],
   "source": [
    "list(board.generate_legal_moves())"
   ]
  },
  {
   "cell_type": "code",
   "execution_count": null,
   "metadata": {},
   "outputs": [],
   "source": [
    "chess.Board()"
   ]
  },
  {
   "cell_type": "code",
   "execution_count": null,
   "metadata": {},
   "outputs": [],
   "source": [
    "from stockfish import Stockfish\n",
    "\n",
    "stockfish = Stockfish(\"Desktop/stockfish-11-mac/Mac/stockfish-11-64\")"
   ]
  },
  {
   "cell_type": "code",
   "execution_count": null,
   "metadata": {},
   "outputs": [],
   "source": [
    "%%time\n",
    "import chess\n",
    "import chess.engine\n",
    "\n",
    "engine = chess.engine.SimpleEngine.popen_uci(\"Desktop/stockfish-11-mac/Mac/stockfish-11-64\")\n",
    "\n",
    "#board = chess.Board()\n",
    "#info = engine.analyse(board, chess.engine.Limit(time=0.1))\n",
    "#print(\"Score:\", info[\"score\"])\n",
    "# Score: +95\n",
    "\n",
    "board = chess.Board()\n",
    "\n",
    "print(board)\n",
    "info = engine.analyse(board, chess.engine.Limit(depth=5))\n",
    "print(\"Score:\", info[\"score\"])\n",
    "# Score: #+1\n",
    "\n",
    "engine.quit()"
   ]
  },
  {
   "cell_type": "code",
   "execution_count": null,
   "metadata": {},
   "outputs": [],
   "source": [
    "white_win[0]"
   ]
  },
  {
   "cell_type": "markdown",
   "metadata": {},
   "source": [
    "# New APPROACH!!!"
   ]
  },
  {
   "cell_type": "markdown",
   "metadata": {},
   "source": [
    "### Will obtain positional (cp) scores by feeding stockfish chess engine positions\n",
    "### Then - I will train the ANN to approximate the RNN evaluation of positional score\n",
    "### THEN! - I will evaulate the avalible legal moves given the current state and select the best move."
   ]
  },
  {
   "cell_type": "code",
   "execution_count": null,
   "metadata": {},
   "outputs": [],
   "source": [
    "def get_white_win(game): ### 1 win\n",
    "    '''\n",
    "    Input: \n",
    "    '''\n",
    "    board = chess.Board()\n",
    "\n",
    "    board_state = None\n",
    "    game_board_states = []\n",
    "\n",
    "\n",
    "    for i in range(len(game)):\n",
    "        bs = board.board_fen() ### creates current board state, in FEN \"rnbqkbnr/pppppppp....\n",
    "        board_state = np.array(clean_fen(bs)) ### return\n",
    "        game_board_states.append(board_state)\n",
    "        board.push_san(game[i])\n",
    "        \n",
    "    white_wins = []\n",
    "    i = 0\n",
    "    while i < len(game_board_states):\n",
    "        try:\n",
    "            white_wins.append((get_bitwise(game_board_states[i]).astype(int), get_bitwise(game_board_states[i + 1]).astype(int)))\n",
    "            i += 2\n",
    "        except:\n",
    "            break\n",
    "    return(white_wins)"
   ]
  },
  {
   "cell_type": "code",
   "execution_count": null,
   "metadata": {},
   "outputs": [],
   "source": [
    "board = chess.Board()"
   ]
  },
  {
   "cell_type": "code",
   "execution_count": null,
   "metadata": {},
   "outputs": [],
   "source": [
    "\n",
    "engine = chess.engine.SimpleEngine.popen_uci(\"Desktop/stockfish-11-mac/Mac/stockfish-11-64\")\n",
    "\n",
    "#board = chess.Board()\n",
    "#info = engine.analyse(board, chess.engine.Limit(time=0.1))\n",
    "#print(\"Score:\", info[\"score\"])\n",
    "# Score: +95\n",
    "\n",
    "board = chess.Board()\n",
    "print(board)\n",
    "info = engine.analyse(board, chess.engine.Limit(depth=8))\n",
    "print(\"Score:\", info[\"score\"])\n",
    "\n",
    "engine.quit()"
   ]
  },
  {
   "cell_type": "code",
   "execution_count": null,
   "metadata": {},
   "outputs": [],
   "source": [
    "'''\n",
    "1- FEN-state       Bitwise 8*8*6  Positional value (cps?)\n",
    "__________________|_______________|_________________________-\n",
    "Include tail?\n",
    "    probably...\n",
    "White win, white lose\n",
    "'''"
   ]
  },
  {
   "cell_type": "code",
   "execution_count": null,
   "metadata": {},
   "outputs": [],
   "source": [
    "white_wins[0]"
   ]
  },
  {
   "cell_type": "markdown",
   "metadata": {},
   "source": [
    "# Playing game"
   ]
  },
  {
   "cell_type": "code",
   "execution_count": null,
   "metadata": {},
   "outputs": [],
   "source": [
    "#import pickle\n",
    "import pandas as pd\n",
    "import numpy as np\n",
    "import chess\n",
    "import pickle\n",
    "\n",
    "import itertools\n",
    "import os\n",
    "\n",
    "import keras\n",
    "from matplotlib import pyplot as plt\n",
    "from keras.utils import np_utils\n",
    "from sklearn.model_selection import cross_val_score\n",
    "from sklearn import preprocessing\n",
    "from sklearn.preprocessing import LabelEncoder\n",
    "from keras.optimizers import SGD\n",
    "from keras.optimizers import Adam\n",
    "from keras.layers.core import Activation\n",
    "from keras.models import Sequential\n",
    "from keras.layers import Dropout\n",
    "from keras.layers import Dense\n",
    "from sklearn.model_selection import cross_val_score\n",
    "from keras.regularizers import l2\n",
    "from sklearn.model_selection import train_test_split\n",
    "import xgboost\n",
    "import sklearn.model_selection\n",
    "from sklearn.preprocessing import MinMaxScaler "
   ]
  },
  {
   "cell_type": "code",
   "execution_count": null,
   "metadata": {},
   "outputs": [],
   "source": [
    "model = keras.models.load_model('model2.h5')"
   ]
  },
  {
   "cell_type": "code",
   "execution_count": null,
   "metadata": {},
   "outputs": [],
   "source": [
    "print(model.layers[7].activation)"
   ]
  },
  {
   "cell_type": "code",
   "execution_count": null,
   "metadata": {},
   "outputs": [],
   "source": [
    "## with open('bitwise_data.p', 'rb') as read_file:\n",
    " #   data = pickle.load(read_file)"
   ]
  },
  {
   "cell_type": "code",
   "execution_count": null,
   "metadata": {},
   "outputs": [],
   "source": [
    "#df = pd.DataFrame(data, columns = ['cp', 'bitwise'])"
   ]
  },
  {
   "cell_type": "code",
   "execution_count": null,
   "metadata": {},
   "outputs": [],
   "source": [
    "%%time\n",
    "df['rook'] = [ df['bitwise'][i][0] for i in range(len(df)) ]\n",
    "df['night'] = [ df['bitwise'][i][1] for i in range(len(df))]\n",
    "df['bishop'] = [ df['bitwise'][i][2] for i in range(len(df))]\n",
    "df['queen'] = [ df['bitwise'][i][3] for i in range(len(df))]\n",
    "df['king'] = [ df['bitwise'][i][4] for i in range(len(df))]\n",
    "df['pawn'] = [ df['bitwise'][i][5] for i in range(len(df))]\n",
    "\n",
    "\n"
   ]
  },
  {
   "cell_type": "code",
   "execution_count": null,
   "metadata": {},
   "outputs": [],
   "source": [
    "rook_cols = []\n",
    "for i in range(64):\n",
    "    rook_cols.append('rook_'+ str(i))\n",
    "    \n",
    "night_cols = []\n",
    "for i in range(64):\n",
    "    night_cols.append('night_'+ str(i))\n",
    "\n",
    "bishop_cols = []\n",
    "for i in range(64):\n",
    "    bishop_cols.append('bishop_'+ str(i))    \n",
    "    \n",
    "queen_cols = []\n",
    "for i in range(64):\n",
    "    queen_cols.append('queen_'+ str(i))\n",
    "    \n",
    "king_cols = []\n",
    "for i in range(64):\n",
    "    king_cols.append('king_'+ str(i))\n",
    "    \n",
    "pawn_cols = []\n",
    "for i in range(64):\n",
    "    pawn_cols.append('pawn_'+ str(i))"
   ]
  },
  {
   "cell_type": "code",
   "execution_count": null,
   "metadata": {},
   "outputs": [],
   "source": []
  },
  {
   "cell_type": "code",
   "execution_count": null,
   "metadata": {},
   "outputs": [],
   "source": [
    "run_AI(board, turn)\n",
    "    \n"
   ]
  },
  {
   "cell_type": "code",
   "execution_count": null,
   "metadata": {},
   "outputs": [],
   "source": [
    "board = chess.Board()\n",
    "turn = 0\n",
    "board"
   ]
  },
  {
   "cell_type": "code",
   "execution_count": null,
   "metadata": {},
   "outputs": [],
   "source": [
    "turn += 1\n",
    "x = run_AI(board, turn)\n",
    "print(x, 'turn-',turn)\n",
    "\n",
    "move = x[0]\n",
    "\n",
    "board.push(chess.Move.from_uci(game))\n",
    "\n",
    "board"
   ]
  },
  {
   "cell_type": "code",
   "execution_count": null,
   "metadata": {},
   "outputs": [],
   "source": [
    "funny_board = chess.Board('8/8/8/8/2r2R2/8/8/8')"
   ]
  },
  {
   "cell_type": "code",
   "execution_count": null,
   "metadata": {},
   "outputs": [],
   "source": [
    "funny_board"
   ]
  },
  {
   "cell_type": "code",
   "execution_count": null,
   "metadata": {},
   "outputs": [],
   "source": [
    "current_board = chess.Board()\n",
    "\n",
    "current_board = current_board\n",
    "run_AI(current_board)"
   ]
  },
  {
   "cell_type": "code",
   "execution_count": null,
   "metadata": {},
   "outputs": [],
   "source": [
    "board.fen()"
   ]
  },
  {
   "cell_type": "code",
   "execution_count": null,
   "metadata": {},
   "outputs": [],
   "source": [
    "%%time\n",
    "\n",
    "def run_AI(board, turn):\n",
    "    legal_boards = []\n",
    "    l = []\n",
    "    \n",
    "    boardfen = board.fen()\n",
    "    for move in [str(i) for i in list(board.legal_moves)]:\n",
    "        current_board = chess.Board(boardfen)\n",
    "        \n",
    "        future_move = chess.Move.from_uci(str(move))\n",
    "        current_board.push(future_move)\n",
    "        current_board = str(current_board)\n",
    "        current_board = current_board.replace('\\n', ' ')\n",
    "        current_board = current_board.replace('.', '1')\n",
    "        current_board = current_board.split(' ')\n",
    "        legal_boards.append((future_move, get_bitwise(current_board)))\n",
    "    \n",
    "    pred_df = pd.DataFrame(legal_boards, columns = ['move', 'bitwise'])\n",
    "    pred_df['rook'] = [ pred_df['bitwise'][i][0] for i in range(len(pred_df)) ]\n",
    "    pred_df['night'] = [ pred_df['bitwise'][i][1] for i in range(len(pred_df)) ]\n",
    "    pred_df['bishop'] = [ pred_df['bitwise'][i][2] for i in range(len(pred_df)) ]\n",
    "    pred_df['queen'] = [ pred_df['bitwise'][i][3] for i in range(len(pred_df)) ]\n",
    "    pred_df['king'] = [ pred_df['bitwise'][i][4] for i in range(len(pred_df)) ]\n",
    "    pred_df['pawn'] = [ pred_df['bitwise'][i][5] for i in range(len(pred_df)) ]\n",
    "    pred_df = pred_df.drop('bitwise', axis=1)\n",
    "    \n",
    "    ### Need column names for expanded df\n",
    "    rook_cols = []\n",
    "    for i in range(64):\n",
    "        rook_cols.append('rook_'+ str(i))\n",
    "    night_cols = []\n",
    "    for i in range(64):\n",
    "        night_cols.append('night_'+ str(i))\n",
    "    bishop_cols = []\n",
    "    for i in range(64):\n",
    "        bishop_cols.append('bishop_'+ str(i))    \n",
    "    queen_cols = []\n",
    "    for i in range(64):\n",
    "        queen_cols.append('queen_'+ str(i))\n",
    "    king_cols = []\n",
    "    for i in range(64):\n",
    "        king_cols.append('king_'+ str(i))\n",
    "    pawn_cols = []\n",
    "    for i in range(64):\n",
    "        pawn_cols.append('pawn_'+ str(i))\n",
    "    \n",
    "    \n",
    "    ### Expanding individual board state dfs \n",
    "    \n",
    "    dfr = pd.DataFrame(pred_df['rook'].values.tolist(), columns = rook_cols)\n",
    "    dfn = pd.DataFrame(pred_df['night'].values.tolist(), columns = night_cols)\n",
    "    dfb = pd.DataFrame(pred_df['bishop'].values.tolist(), columns = bishop_cols)\n",
    "    dfq = pd.DataFrame(pred_df['queen'].values.tolist(), columns = queen_cols)\n",
    "    dfk = pd.DataFrame(pred_df['king'].values.tolist(), columns = king_cols)\n",
    "    dfp = pd.DataFrame(pred_df['pawn'].values.tolist(), columns = pawn_cols)\n",
    "    \n",
    "    ### Encoding current turn\n",
    "    \n",
    "    placeholder = pd.Series([i for i in range(len(pred_df))])\n",
    "    turn_df= pd.DataFrame(placeholder, index= range(len(pred_df)), columns=['white_turn'])\n",
    "    if turn % 2 == False:\n",
    "        ones = [1 for i in range(len(pred_df))]\n",
    "        turn_df['white_turn'] = ones\n",
    "    else:\n",
    "        zeros = [0 for i in range(len(pred_df))]\n",
    "        turn_df['white_turn'] = zeros\n",
    "        \n",
    "    ### Merging dfs  \n",
    "    df_merged = turn_df\n",
    "    df_merged = pd.merge(df_merged, dfr, how='outer', right_index=True, left_index=True)\n",
    "    df_merged = pd.merge(df_merged, dfn, how='outer', right_index=True, left_index=True)\n",
    "    df_merged = pd.merge(df_merged, dfb, how='outer', right_index=True, left_index=True)\n",
    "    df_merged = pd.merge(df_merged, dfq, how='outer', right_index=True, left_index=True)\n",
    "    df_merged = pd.merge(df_merged, dfk, how='outer', right_index=True, left_index=True)\n",
    "    df_merged = pd.merge(df_merged, dfp, how='outer', right_index=True, left_index=True)\n",
    "\n",
    "\n",
    "    move_and_score = []\n",
    "    best_move = ('NaN', -100)\n",
    "    \n",
    "    for i in range(len(legal_boards)):\n",
    "        m_and_s = (str(legal_boards[i][0]), np.asscalar(model.predict(df_merged)[i][0]))\n",
    "        move_and_score.append(m_and_s)\n",
    "        if m_and_s[1] > best_move[1]:\n",
    "            best_move = m_and_s\n",
    "            \n",
    "    current_board = board\n",
    "    return(best_move)"
   ]
  },
  {
   "cell_type": "code",
   "execution_count": null,
   "metadata": {},
   "outputs": [],
   "source": [
    "\n"
   ]
  },
  {
   "cell_type": "code",
   "execution_count": null,
   "metadata": {},
   "outputs": [],
   "source": [
    "turn = 1\n",
    "turn % 2 == True"
   ]
  },
  {
   "cell_type": "code",
   "execution_count": null,
   "metadata": {},
   "outputs": [],
   "source": [
    "turn_df"
   ]
  },
  {
   "cell_type": "code",
   "execution_count": null,
   "metadata": {},
   "outputs": [],
   "source": [
    "run_AI(board, 1)"
   ]
  },
  {
   "cell_type": "code",
   "execution_count": null,
   "metadata": {},
   "outputs": [],
   "source": [
    "hf = h5py.File('lenet_weights.hdf5', 'r')\n",
    "    # List all groups\n",
    "data = hf.get('lenet_weights.hdf5').value\n"
   ]
  },
  {
   "cell_type": "code",
   "execution_count": null,
   "metadata": {},
   "outputs": [],
   "source": [
    "pred_df['night'][0]"
   ]
  },
  {
   "cell_type": "code",
   "execution_count": null,
   "metadata": {},
   "outputs": [],
   "source": [
    "df_merged.astype('int64')\n",
    "df_merged"
   ]
  },
  {
   "cell_type": "code",
   "execution_count": null,
   "metadata": {},
   "outputs": [],
   "source": [
    "game = 5\n",
    "# 1 = Boards\n",
    "piece = 1 # night\n",
    "legal_boards[game][1][piece]"
   ]
  },
  {
   "cell_type": "code",
   "execution_count": null,
   "metadata": {},
   "outputs": [],
   "source": [
    "z = [str(i) for i in list(game_board.legal_moves)]\n",
    "z"
   ]
  },
  {
   "cell_type": "code",
   "execution_count": null,
   "metadata": {},
   "outputs": [],
   "source": [
    "legal_boards"
   ]
  },
  {
   "cell_type": "code",
   "execution_count": null,
   "metadata": {},
   "outputs": [],
   "source": [
    "chess.Board().fen()"
   ]
  },
  {
   "cell_type": "code",
   "execution_count": null,
   "metadata": {},
   "outputs": [],
   "source": [
    "b = chess.Board()"
   ]
  },
  {
   "cell_type": "code",
   "execution_count": null,
   "metadata": {},
   "outputs": [],
   "source": [
    "legal_moves = [str(i) for i in list(b.legal_moves)]\n",
    "legal_moves[0]"
   ]
  },
  {
   "cell_type": "code",
   "execution_count": null,
   "metadata": {},
   "outputs": [],
   "source": [
    "b = chess.Board()\n",
    "#b.push(chess.Move.from_uci('g1h3'))"
   ]
  },
  {
   "cell_type": "code",
   "execution_count": null,
   "metadata": {},
   "outputs": [],
   "source": [
    "clean_fen()"
   ]
  },
  {
   "cell_type": "code",
   "execution_count": null,
   "metadata": {},
   "outputs": [],
   "source": [
    "import h5py"
   ]
  },
  {
   "cell_type": "code",
   "execution_count": null,
   "metadata": {},
   "outputs": [],
   "source": [
    "f = h5py.File('lenet_weights.hdf5', 'r')"
   ]
  },
  {
   "cell_type": "code",
   "execution_count": null,
   "metadata": {},
   "outputs": [],
   "source": [
    "list(f.keys())"
   ]
  },
  {
   "cell_type": "code",
   "execution_count": null,
   "metadata": {},
   "outputs": [],
   "source": [
    "dset = f['activation_1']"
   ]
  },
  {
   "cell_type": "code",
   "execution_count": null,
   "metadata": {},
   "outputs": [],
   "source": [
    "dset"
   ]
  },
  {
   "cell_type": "code",
   "execution_count": null,
   "metadata": {},
   "outputs": [],
   "source": [
    "hf = h5py.File('lenet_weights.hdf5', 'r')\n",
    "    # List all groups\n",
    "data = hf.get('lenet_weights.hdf5').value\n"
   ]
  },
  {
   "cell_type": "code",
   "execution_count": null,
   "metadata": {},
   "outputs": [],
   "source": [
    "data"
   ]
  },
  {
   "cell_type": "code",
   "execution_count": null,
   "metadata": {},
   "outputs": [],
   "source": []
  }
 ],
 "metadata": {
  "kernelspec": {
   "display_name": "Python 3",
   "language": "python",
   "name": "python3"
  },
  "language_info": {
   "codemirror_mode": {
    "name": "ipython",
    "version": 3
   },
   "file_extension": ".py",
   "mimetype": "text/x-python",
   "name": "python",
   "nbconvert_exporter": "python",
   "pygments_lexer": "ipython3",
   "version": "3.7.4"
  }
 },
 "nbformat": 4,
 "nbformat_minor": 4
}
